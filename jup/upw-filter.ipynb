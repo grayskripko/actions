{
  "cells": [
    {
      "cell_type": "code",
      "execution_count": null,
      "id": "308bd172",
      "metadata": {},
      "outputs": [],
      "source": []
    }
  ],
  "metadata": {
    "kernel_info": {
      "name": "python3"
    },
    "kernelspec": {
      "display_name": "Python 3.9",
      "language": "python",
      "name": "python3"
    },
    "language_info": {
      "codemirror_mode": {
        "name": "ipython",
        "version": 3
      },
      "file_extension": ".py",
      "mimetype": "text/x-python",
      "name": "python",
      "nbconvert_exporter": "python",
      "pygments_lexer": "ipython3",
      "version": "3.10.6"
    },
    "noteable": {
      "last_delta_id": "2b38f196-c793-44e9-bc32-85ce79db5c41"
    },
    "noteable-chatgpt": {
      "create_notebook": {
        "openai_conversation_id": "e8560bec-4047-5f2f-8cee-9f391aa1e0ca",
        "openai_ephemeral_user_id": "21881765-f0f0-5973-b1c7-69681936f4a6",
        "openai_subdivision1_iso_code": "AR-B"
      }
    },
    "nteract": {
      "version": "noteable@2.9.0"
    },
    "selected_hardware_size": "small"
  },
  "nbformat": 4,
  "nbformat_minor": 5
}
