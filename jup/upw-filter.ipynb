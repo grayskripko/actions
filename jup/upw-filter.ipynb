{
  "cells": [
    {
      "cell_type": "code",
      "execution_count": 2,
      "id": "2635c4fb-3daa-4b33-a1cd-7e32aa840bbe",
      "metadata": {
        "ExecuteTime": {
          "end_time": "2023-09-04T19:15:20.628963+00:00",
          "start_time": "2023-09-04T19:15:20.427039+00:00"
        },
        "datalink": {
          "0469d709-950d-47d2-b44e-ceae818eb510": {
            "applied_filters": [],
            "dataframe_info": {
              "default_index_used": false,
              "orig_num_cols": 1,
              "orig_num_rows": 2,
              "orig_size_bytes": 32,
              "truncated_num_cols": 1,
              "truncated_num_rows": 2,
              "truncated_size_bytes": 32,
              "truncated_string_columns": []
            },
            "display_id": "0469d709-950d-47d2-b44e-ceae818eb510",
            "dx_settings": {
              "ALLOW_NOTEABLE_ATTRS": true,
              "COLUMN_SAMPLING_METHOD": "outer",
              "DB_LOCATION": ":memory:",
              "DEV_MODE": false,
              "DISPLAY_MAX_COLUMNS": 100,
              "DISPLAY_MAX_ROWS": 50000,
              "DISPLAY_MODE": "simple",
              "ENABLE_ASSIGNMENT": true,
              "ENABLE_DATALINK": true,
              "FLATTEN_COLUMN_VALUES": true,
              "FLATTEN_INDEX_VALUES": false,
              "GENERATE_DEX_METADATA": false,
              "HTML_TABLE_SCHEMA": false,
              "LOG_LEVEL": 30,
              "MAX_RENDER_SIZE_BYTES": 104857600,
              "MAX_STRING_LENGTH": 250,
              "NUM_PAST_SAMPLES_TRACKED": 3,
              "RANDOM_STATE": 12648430,
              "RESET_INDEX_VALUES": false,
              "ROW_SAMPLING_METHOD": "random",
              "SAMPLING_FACTOR": 0.1,
              "SAMPLING_METHOD": "random",
              "STRINGIFY_COLUMN_VALUES": true,
              "STRINGIFY_INDEX_VALUES": false
            },
            "sample_history": [],
            "sampling_time": "2023-09-01T21:58:09.077392",
            "user_variable_name": null,
            "variable_name": "unk_dataframe_95a8f1cbb9504a53a8b48c55fe747be6"
          },
          "16cf8ac7-1a77-4461-9ea4-f666f9a07617": {
            "applied_filters": [],
            "dataframe_info": {
              "default_index_used": false,
              "orig_num_cols": 1,
              "orig_num_rows": 84,
              "orig_size_bytes": 1344,
              "truncated_num_cols": 1,
              "truncated_num_rows": 84,
              "truncated_size_bytes": 1344,
              "truncated_string_columns": []
            },
            "display_id": "16cf8ac7-1a77-4461-9ea4-f666f9a07617",
            "dx_settings": {
              "ALLOW_NOTEABLE_ATTRS": true,
              "COLUMN_SAMPLING_METHOD": "outer",
              "DB_LOCATION": ":memory:",
              "DEV_MODE": false,
              "DISPLAY_MAX_COLUMNS": 100,
              "DISPLAY_MAX_ROWS": 50000,
              "DISPLAY_MODE": "simple",
              "ENABLE_ASSIGNMENT": true,
              "ENABLE_DATALINK": true,
              "FLATTEN_COLUMN_VALUES": true,
              "FLATTEN_INDEX_VALUES": false,
              "GENERATE_DEX_METADATA": false,
              "HTML_TABLE_SCHEMA": false,
              "LOG_LEVEL": 30,
              "MAX_RENDER_SIZE_BYTES": 104857600,
              "MAX_STRING_LENGTH": 250,
              "NUM_PAST_SAMPLES_TRACKED": 3,
              "RANDOM_STATE": 12648430,
              "RESET_INDEX_VALUES": false,
              "ROW_SAMPLING_METHOD": "random",
              "SAMPLING_FACTOR": 0.1,
              "SAMPLING_METHOD": "random",
              "STRINGIFY_COLUMN_VALUES": true,
              "STRINGIFY_INDEX_VALUES": false
            },
            "sample_history": [],
            "sampling_time": "2023-09-01T21:57:36.265620",
            "user_variable_name": null,
            "variable_name": "unk_dataframe_bf8bc74709f94adfb74cd971d6558de9"
          },
          "185b46da-eaf2-4c33-a002-8d5b04b8821d": {
            "applied_filters": [],
            "dataframe_info": {
              "default_index_used": true,
              "orig_num_cols": 3,
              "orig_num_rows": 3,
              "orig_size_bytes": 96,
              "truncated_num_cols": 3,
              "truncated_num_rows": 3,
              "truncated_size_bytes": 96,
              "truncated_string_columns": []
            },
            "display_id": "185b46da-eaf2-4c33-a002-8d5b04b8821d",
            "dx_settings": {
              "ALLOW_NOTEABLE_ATTRS": true,
              "COLUMN_SAMPLING_METHOD": "outer",
              "DB_LOCATION": ":memory:",
              "DEV_MODE": false,
              "DISPLAY_MAX_COLUMNS": 100,
              "DISPLAY_MAX_ROWS": 50000,
              "DISPLAY_MODE": "simple",
              "ENABLE_ASSIGNMENT": true,
              "ENABLE_DATALINK": true,
              "FLATTEN_COLUMN_VALUES": true,
              "FLATTEN_INDEX_VALUES": false,
              "GENERATE_DEX_METADATA": false,
              "HTML_TABLE_SCHEMA": false,
              "LOG_LEVEL": 30,
              "MAX_RENDER_SIZE_BYTES": 104857600,
              "MAX_STRING_LENGTH": 250,
              "NUM_PAST_SAMPLES_TRACKED": 3,
              "RANDOM_STATE": 12648430,
              "RESET_INDEX_VALUES": false,
              "ROW_SAMPLING_METHOD": "random",
              "SAMPLING_FACTOR": 0.1,
              "SAMPLING_METHOD": "random",
              "STRINGIFY_COLUMN_VALUES": true,
              "STRINGIFY_INDEX_VALUES": false
            },
            "sample_history": [],
            "sampling_time": "2023-09-01T23:32:34.864605",
            "user_variable_name": null,
            "variable_name": "unk_dataframe_073a298048334827a57185926a65eab2"
          },
          "1d9e0361-4913-4187-8dff-beadee15a323": {
            "applied_filters": [],
            "dataframe_info": {
              "default_index_used": true,
              "orig_num_cols": 3,
              "orig_num_rows": 3,
              "orig_size_bytes": 96,
              "truncated_num_cols": 3,
              "truncated_num_rows": 3,
              "truncated_size_bytes": 96,
              "truncated_string_columns": []
            },
            "display_id": "1d9e0361-4913-4187-8dff-beadee15a323",
            "dx_settings": {
              "ALLOW_NOTEABLE_ATTRS": true,
              "COLUMN_SAMPLING_METHOD": "outer",
              "DB_LOCATION": ":memory:",
              "DEV_MODE": false,
              "DISPLAY_MAX_COLUMNS": 100,
              "DISPLAY_MAX_ROWS": 50000,
              "DISPLAY_MODE": "simple",
              "ENABLE_ASSIGNMENT": true,
              "ENABLE_DATALINK": true,
              "FLATTEN_COLUMN_VALUES": true,
              "FLATTEN_INDEX_VALUES": false,
              "GENERATE_DEX_METADATA": false,
              "HTML_TABLE_SCHEMA": false,
              "LOG_LEVEL": 30,
              "MAX_RENDER_SIZE_BYTES": 104857600,
              "MAX_STRING_LENGTH": 250,
              "NUM_PAST_SAMPLES_TRACKED": 3,
              "RANDOM_STATE": 12648430,
              "RESET_INDEX_VALUES": false,
              "ROW_SAMPLING_METHOD": "random",
              "SAMPLING_FACTOR": 0.1,
              "SAMPLING_METHOD": "random",
              "STRINGIFY_COLUMN_VALUES": true,
              "STRINGIFY_INDEX_VALUES": false
            },
            "sample_history": [],
            "sampling_time": "2023-09-01T23:28:54.785719",
            "user_variable_name": null,
            "variable_name": "unk_dataframe_7f04175a4f484276b9723ee50ee2fdad"
          },
          "285961a2-d674-4777-8f98-1ef67b16e3a5": {
            "applied_filters": [],
            "dataframe_info": {
              "default_index_used": true,
              "orig_num_cols": 1,
              "orig_num_rows": 150,
              "orig_size_bytes": 2400,
              "truncated_num_cols": 1,
              "truncated_num_rows": 150,
              "truncated_size_bytes": 2400,
              "truncated_string_columns": [
                "label"
              ]
            },
            "display_id": "285961a2-d674-4777-8f98-1ef67b16e3a5",
            "dx_settings": {
              "ALLOW_NOTEABLE_ATTRS": true,
              "COLUMN_SAMPLING_METHOD": "outer",
              "DB_LOCATION": ":memory:",
              "DEV_MODE": false,
              "DISPLAY_MAX_COLUMNS": 100,
              "DISPLAY_MAX_ROWS": 50000,
              "DISPLAY_MODE": "simple",
              "ENABLE_ASSIGNMENT": true,
              "ENABLE_DATALINK": true,
              "FLATTEN_COLUMN_VALUES": true,
              "FLATTEN_INDEX_VALUES": false,
              "GENERATE_DEX_METADATA": false,
              "HTML_TABLE_SCHEMA": false,
              "LOG_LEVEL": 30,
              "MAX_RENDER_SIZE_BYTES": 104857600,
              "MAX_STRING_LENGTH": 250,
              "NUM_PAST_SAMPLES_TRACKED": 3,
              "RANDOM_STATE": 12648430,
              "RESET_INDEX_VALUES": false,
              "ROW_SAMPLING_METHOD": "random",
              "SAMPLING_FACTOR": 0.1,
              "SAMPLING_METHOD": "random",
              "STRINGIFY_COLUMN_VALUES": true,
              "STRINGIFY_INDEX_VALUES": false
            },
            "sample_history": [],
            "sampling_time": "2023-09-01T21:54:50.884696",
            "user_variable_name": null,
            "variable_name": "unk_dataframe_31540f03a7a8465ba553094a7fb43c45"
          },
          "2cbfaa84-16ca-467c-86c4-678ac0423cd7": {
            "applied_filters": [],
            "dataframe_info": {
              "default_index_used": false,
              "orig_num_cols": 1,
              "orig_num_rows": 84,
              "orig_size_bytes": 1344,
              "truncated_num_cols": 1,
              "truncated_num_rows": 84,
              "truncated_size_bytes": 1344,
              "truncated_string_columns": []
            },
            "display_id": "2cbfaa84-16ca-467c-86c4-678ac0423cd7",
            "dx_settings": {
              "ALLOW_NOTEABLE_ATTRS": true,
              "COLUMN_SAMPLING_METHOD": "outer",
              "DB_LOCATION": ":memory:",
              "DEV_MODE": false,
              "DISPLAY_MAX_COLUMNS": 100,
              "DISPLAY_MAX_ROWS": 50000,
              "DISPLAY_MODE": "simple",
              "ENABLE_ASSIGNMENT": true,
              "ENABLE_DATALINK": true,
              "FLATTEN_COLUMN_VALUES": true,
              "FLATTEN_INDEX_VALUES": false,
              "GENERATE_DEX_METADATA": false,
              "HTML_TABLE_SCHEMA": false,
              "LOG_LEVEL": 30,
              "MAX_RENDER_SIZE_BYTES": 104857600,
              "MAX_STRING_LENGTH": 250,
              "NUM_PAST_SAMPLES_TRACKED": 3,
              "RANDOM_STATE": 12648430,
              "RESET_INDEX_VALUES": false,
              "ROW_SAMPLING_METHOD": "random",
              "SAMPLING_FACTOR": 0.1,
              "SAMPLING_METHOD": "random",
              "STRINGIFY_COLUMN_VALUES": true,
              "STRINGIFY_INDEX_VALUES": false
            },
            "sample_history": [],
            "sampling_time": "2023-09-01T21:58:12.581842",
            "user_variable_name": null,
            "variable_name": "unk_dataframe_64bcd87f98e5492580f941f7b14cdeb4"
          },
          "334da083-5a68-4fa9-b6d2-9846311c9e1c": {
            "applied_filters": [],
            "dataframe_info": {
              "default_index_used": true,
              "orig_num_cols": 3,
              "orig_num_rows": 3,
              "orig_size_bytes": 96,
              "truncated_num_cols": 3,
              "truncated_num_rows": 3,
              "truncated_size_bytes": 96,
              "truncated_string_columns": []
            },
            "display_id": "334da083-5a68-4fa9-b6d2-9846311c9e1c",
            "dx_settings": {
              "ALLOW_NOTEABLE_ATTRS": true,
              "COLUMN_SAMPLING_METHOD": "outer",
              "DB_LOCATION": ":memory:",
              "DEV_MODE": false,
              "DISPLAY_MAX_COLUMNS": 100,
              "DISPLAY_MAX_ROWS": 50000,
              "DISPLAY_MODE": "simple",
              "ENABLE_ASSIGNMENT": true,
              "ENABLE_DATALINK": true,
              "FLATTEN_COLUMN_VALUES": true,
              "FLATTEN_INDEX_VALUES": false,
              "GENERATE_DEX_METADATA": false,
              "HTML_TABLE_SCHEMA": false,
              "LOG_LEVEL": 30,
              "MAX_RENDER_SIZE_BYTES": 104857600,
              "MAX_STRING_LENGTH": 250,
              "NUM_PAST_SAMPLES_TRACKED": 3,
              "RANDOM_STATE": 12648430,
              "RESET_INDEX_VALUES": false,
              "ROW_SAMPLING_METHOD": "random",
              "SAMPLING_FACTOR": 0.1,
              "SAMPLING_METHOD": "random",
              "STRINGIFY_COLUMN_VALUES": true,
              "STRINGIFY_INDEX_VALUES": false
            },
            "sample_history": [],
            "sampling_time": "2023-09-01T23:52:37.866920",
            "user_variable_name": null,
            "variable_name": "unk_dataframe_b0c280594a70426484b465279a4ff1da"
          },
          "38fd3dfc-863a-41e2-a4ea-496012b482f0": {
            "applied_filters": [],
            "dataframe_info": {
              "default_index_used": true,
              "orig_num_cols": 3,
              "orig_num_rows": 3,
              "orig_size_bytes": 96,
              "truncated_num_cols": 3,
              "truncated_num_rows": 3,
              "truncated_size_bytes": 96,
              "truncated_string_columns": []
            },
            "display_id": "38fd3dfc-863a-41e2-a4ea-496012b482f0",
            "dx_settings": {
              "ALLOW_NOTEABLE_ATTRS": true,
              "COLUMN_SAMPLING_METHOD": "outer",
              "DB_LOCATION": ":memory:",
              "DEV_MODE": false,
              "DISPLAY_MAX_COLUMNS": 100,
              "DISPLAY_MAX_ROWS": 50000,
              "DISPLAY_MODE": "simple",
              "ENABLE_ASSIGNMENT": true,
              "ENABLE_DATALINK": true,
              "FLATTEN_COLUMN_VALUES": true,
              "FLATTEN_INDEX_VALUES": false,
              "GENERATE_DEX_METADATA": false,
              "HTML_TABLE_SCHEMA": false,
              "LOG_LEVEL": 30,
              "MAX_RENDER_SIZE_BYTES": 104857600,
              "MAX_STRING_LENGTH": 250,
              "NUM_PAST_SAMPLES_TRACKED": 3,
              "RANDOM_STATE": 12648430,
              "RESET_INDEX_VALUES": false,
              "ROW_SAMPLING_METHOD": "random",
              "SAMPLING_FACTOR": 0.1,
              "SAMPLING_METHOD": "random",
              "STRINGIFY_COLUMN_VALUES": true,
              "STRINGIFY_INDEX_VALUES": false
            },
            "sample_history": [],
            "sampling_time": "2023-09-04T19:14:35.870980",
            "user_variable_name": null,
            "variable_name": "unk_dataframe_ff470b928eb14d39a8dc700c29d58caa"
          },
          "399468f1-1e23-4ff7-bb8b-cfb02e2a3d71": {
            "applied_filters": [],
            "dataframe_info": {
              "default_index_used": true,
              "orig_num_cols": 3,
              "orig_num_rows": 3,
              "orig_size_bytes": 96,
              "truncated_num_cols": 3,
              "truncated_num_rows": 3,
              "truncated_size_bytes": 96,
              "truncated_string_columns": []
            },
            "display_id": "399468f1-1e23-4ff7-bb8b-cfb02e2a3d71",
            "dx_settings": {
              "ALLOW_NOTEABLE_ATTRS": true,
              "COLUMN_SAMPLING_METHOD": "outer",
              "DB_LOCATION": ":memory:",
              "DEV_MODE": false,
              "DISPLAY_MAX_COLUMNS": 100,
              "DISPLAY_MAX_ROWS": 50000,
              "DISPLAY_MODE": "simple",
              "ENABLE_ASSIGNMENT": true,
              "ENABLE_DATALINK": true,
              "FLATTEN_COLUMN_VALUES": true,
              "FLATTEN_INDEX_VALUES": false,
              "GENERATE_DEX_METADATA": false,
              "HTML_TABLE_SCHEMA": false,
              "LOG_LEVEL": 30,
              "MAX_RENDER_SIZE_BYTES": 104857600,
              "MAX_STRING_LENGTH": 250,
              "NUM_PAST_SAMPLES_TRACKED": 3,
              "RANDOM_STATE": 12648430,
              "RESET_INDEX_VALUES": false,
              "ROW_SAMPLING_METHOD": "random",
              "SAMPLING_FACTOR": 0.1,
              "SAMPLING_METHOD": "random",
              "STRINGIFY_COLUMN_VALUES": true,
              "STRINGIFY_INDEX_VALUES": false
            },
            "sample_history": [],
            "sampling_time": "2023-09-04T19:15:20.469393",
            "user_variable_name": null,
            "variable_name": "unk_dataframe_3f4d3ebcdd2e4d1d80e78579b7a4d1ce"
          },
          "50fd1c5e-9e1c-4a43-895b-36a24990472a": {
            "applied_filters": [],
            "dataframe_info": {
              "default_index_used": true,
              "orig_num_cols": 3,
              "orig_num_rows": 3,
              "orig_size_bytes": 96,
              "truncated_num_cols": 3,
              "truncated_num_rows": 3,
              "truncated_size_bytes": 96,
              "truncated_string_columns": []
            },
            "display_id": "50fd1c5e-9e1c-4a43-895b-36a24990472a",
            "dx_settings": {
              "ALLOW_NOTEABLE_ATTRS": true,
              "COLUMN_SAMPLING_METHOD": "outer",
              "DB_LOCATION": ":memory:",
              "DEV_MODE": false,
              "DISPLAY_MAX_COLUMNS": 100,
              "DISPLAY_MAX_ROWS": 50000,
              "DISPLAY_MODE": "simple",
              "ENABLE_ASSIGNMENT": true,
              "ENABLE_DATALINK": true,
              "FLATTEN_COLUMN_VALUES": true,
              "FLATTEN_INDEX_VALUES": false,
              "GENERATE_DEX_METADATA": false,
              "HTML_TABLE_SCHEMA": false,
              "LOG_LEVEL": 30,
              "MAX_RENDER_SIZE_BYTES": 104857600,
              "MAX_STRING_LENGTH": 250,
              "NUM_PAST_SAMPLES_TRACKED": 3,
              "RANDOM_STATE": 12648430,
              "RESET_INDEX_VALUES": false,
              "ROW_SAMPLING_METHOD": "random",
              "SAMPLING_FACTOR": 0.1,
              "SAMPLING_METHOD": "random",
              "STRINGIFY_COLUMN_VALUES": true,
              "STRINGIFY_INDEX_VALUES": false
            },
            "sample_history": [],
            "sampling_time": "2023-09-01T23:50:42.918670",
            "user_variable_name": null,
            "variable_name": "unk_dataframe_0d0849cffa7b4590834b284e9f0c694d"
          },
          "563a8aac-86d2-47b4-a0f7-e504182df3c4": {
            "applied_filters": [],
            "dataframe_info": {
              "default_index_used": true,
              "orig_num_cols": 3,
              "orig_num_rows": 3,
              "orig_size_bytes": 96,
              "truncated_num_cols": 3,
              "truncated_num_rows": 3,
              "truncated_size_bytes": 96,
              "truncated_string_columns": []
            },
            "display_id": "563a8aac-86d2-47b4-a0f7-e504182df3c4",
            "dx_settings": {
              "ALLOW_NOTEABLE_ATTRS": true,
              "COLUMN_SAMPLING_METHOD": "outer",
              "DB_LOCATION": ":memory:",
              "DEV_MODE": false,
              "DISPLAY_MAX_COLUMNS": 100,
              "DISPLAY_MAX_ROWS": 50000,
              "DISPLAY_MODE": "simple",
              "ENABLE_ASSIGNMENT": true,
              "ENABLE_DATALINK": true,
              "FLATTEN_COLUMN_VALUES": true,
              "FLATTEN_INDEX_VALUES": false,
              "GENERATE_DEX_METADATA": false,
              "HTML_TABLE_SCHEMA": false,
              "LOG_LEVEL": 30,
              "MAX_RENDER_SIZE_BYTES": 104857600,
              "MAX_STRING_LENGTH": 250,
              "NUM_PAST_SAMPLES_TRACKED": 3,
              "RANDOM_STATE": 12648430,
              "RESET_INDEX_VALUES": false,
              "ROW_SAMPLING_METHOD": "random",
              "SAMPLING_FACTOR": 0.1,
              "SAMPLING_METHOD": "random",
              "STRINGIFY_COLUMN_VALUES": true,
              "STRINGIFY_INDEX_VALUES": false
            },
            "sample_history": [],
            "sampling_time": "2023-09-01T23:32:43.016541",
            "user_variable_name": null,
            "variable_name": "unk_dataframe_1e4fa22c93dd48bf9b8ac4fb395fe005"
          },
          "5fce73ff-4104-4dfd-b195-b59ebeb4287c": {
            "applied_filters": [],
            "dataframe_info": {
              "default_index_used": true,
              "orig_num_cols": 3,
              "orig_num_rows": 3,
              "orig_size_bytes": 96,
              "truncated_num_cols": 3,
              "truncated_num_rows": 3,
              "truncated_size_bytes": 96,
              "truncated_string_columns": []
            },
            "display_id": "5fce73ff-4104-4dfd-b195-b59ebeb4287c",
            "dx_settings": {
              "ALLOW_NOTEABLE_ATTRS": true,
              "COLUMN_SAMPLING_METHOD": "outer",
              "DB_LOCATION": ":memory:",
              "DEV_MODE": false,
              "DISPLAY_MAX_COLUMNS": 100,
              "DISPLAY_MAX_ROWS": 50000,
              "DISPLAY_MODE": "simple",
              "ENABLE_ASSIGNMENT": true,
              "ENABLE_DATALINK": true,
              "FLATTEN_COLUMN_VALUES": true,
              "FLATTEN_INDEX_VALUES": false,
              "GENERATE_DEX_METADATA": false,
              "HTML_TABLE_SCHEMA": false,
              "LOG_LEVEL": 30,
              "MAX_RENDER_SIZE_BYTES": 104857600,
              "MAX_STRING_LENGTH": 250,
              "NUM_PAST_SAMPLES_TRACKED": 3,
              "RANDOM_STATE": 12648430,
              "RESET_INDEX_VALUES": false,
              "ROW_SAMPLING_METHOD": "random",
              "SAMPLING_FACTOR": 0.1,
              "SAMPLING_METHOD": "random",
              "STRINGIFY_COLUMN_VALUES": true,
              "STRINGIFY_INDEX_VALUES": false
            },
            "sample_history": [],
            "sampling_time": "2023-09-01T23:33:25.043332",
            "user_variable_name": null,
            "variable_name": "unk_dataframe_32e14f97ee6e439a838903deedd417fc"
          },
          "64ddf13e-1f95-4cb9-8344-e7cb2c2eb2f0": {
            "applied_filters": [],
            "dataframe_info": {
              "default_index_used": false,
              "orig_num_cols": 1,
              "orig_num_rows": 4,
              "orig_size_bytes": 64,
              "truncated_num_cols": 1,
              "truncated_num_rows": 4,
              "truncated_size_bytes": 64,
              "truncated_string_columns": []
            },
            "display_id": "64ddf13e-1f95-4cb9-8344-e7cb2c2eb2f0",
            "dx_settings": {
              "ALLOW_NOTEABLE_ATTRS": true,
              "COLUMN_SAMPLING_METHOD": "outer",
              "DB_LOCATION": ":memory:",
              "DEV_MODE": false,
              "DISPLAY_MAX_COLUMNS": 100,
              "DISPLAY_MAX_ROWS": 50000,
              "DISPLAY_MODE": "simple",
              "ENABLE_ASSIGNMENT": true,
              "ENABLE_DATALINK": true,
              "FLATTEN_COLUMN_VALUES": true,
              "FLATTEN_INDEX_VALUES": false,
              "GENERATE_DEX_METADATA": false,
              "HTML_TABLE_SCHEMA": false,
              "LOG_LEVEL": 30,
              "MAX_RENDER_SIZE_BYTES": 104857600,
              "MAX_STRING_LENGTH": 250,
              "NUM_PAST_SAMPLES_TRACKED": 3,
              "RANDOM_STATE": 12648430,
              "RESET_INDEX_VALUES": false,
              "ROW_SAMPLING_METHOD": "random",
              "SAMPLING_FACTOR": 0.1,
              "SAMPLING_METHOD": "random",
              "STRINGIFY_COLUMN_VALUES": true,
              "STRINGIFY_INDEX_VALUES": false
            },
            "sample_history": [],
            "sampling_time": "2023-09-01T21:54:58.899435",
            "user_variable_name": null,
            "variable_name": "unk_dataframe_41ad4a0b3e35406990e3dcddf0ff108b"
          },
          "7039645e-e10d-4058-a4a0-5b2381a189ae": {
            "applied_filters": [],
            "dataframe_info": {
              "default_index_used": false,
              "orig_num_cols": 1,
              "orig_num_rows": 84,
              "orig_size_bytes": 1344,
              "truncated_num_cols": 1,
              "truncated_num_rows": 84,
              "truncated_size_bytes": 1344,
              "truncated_string_columns": []
            },
            "display_id": "7039645e-e10d-4058-a4a0-5b2381a189ae",
            "dx_settings": {
              "ALLOW_NOTEABLE_ATTRS": true,
              "COLUMN_SAMPLING_METHOD": "outer",
              "DB_LOCATION": ":memory:",
              "DEV_MODE": false,
              "DISPLAY_MAX_COLUMNS": 100,
              "DISPLAY_MAX_ROWS": 50000,
              "DISPLAY_MODE": "simple",
              "ENABLE_ASSIGNMENT": true,
              "ENABLE_DATALINK": true,
              "FLATTEN_COLUMN_VALUES": true,
              "FLATTEN_INDEX_VALUES": false,
              "GENERATE_DEX_METADATA": false,
              "HTML_TABLE_SCHEMA": false,
              "LOG_LEVEL": 30,
              "MAX_RENDER_SIZE_BYTES": 104857600,
              "MAX_STRING_LENGTH": 250,
              "NUM_PAST_SAMPLES_TRACKED": 3,
              "RANDOM_STATE": 12648430,
              "RESET_INDEX_VALUES": false,
              "ROW_SAMPLING_METHOD": "random",
              "SAMPLING_FACTOR": 0.1,
              "SAMPLING_METHOD": "random",
              "STRINGIFY_COLUMN_VALUES": true,
              "STRINGIFY_INDEX_VALUES": false
            },
            "sample_history": [],
            "sampling_time": "2023-09-01T21:54:23.939785",
            "user_variable_name": null,
            "variable_name": "unk_dataframe_854ace3fa7994d1aa5ff4d185162d22c"
          },
          "74d50fe0-2c93-4e65-8102-8dbb8a43c86b": {
            "applied_filters": [],
            "dataframe_info": {
              "default_index_used": true,
              "orig_num_cols": 1,
              "orig_num_rows": 2,
              "orig_size_bytes": 32,
              "truncated_num_cols": 1,
              "truncated_num_rows": 2,
              "truncated_size_bytes": 32,
              "truncated_string_columns": []
            },
            "display_id": "74d50fe0-2c93-4e65-8102-8dbb8a43c86b",
            "dx_settings": {
              "ALLOW_NOTEABLE_ATTRS": true,
              "COLUMN_SAMPLING_METHOD": "outer",
              "DB_LOCATION": ":memory:",
              "DEV_MODE": false,
              "DISPLAY_MAX_COLUMNS": 100,
              "DISPLAY_MAX_ROWS": 50000,
              "DISPLAY_MODE": "simple",
              "ENABLE_ASSIGNMENT": true,
              "ENABLE_DATALINK": true,
              "FLATTEN_COLUMN_VALUES": true,
              "FLATTEN_INDEX_VALUES": false,
              "GENERATE_DEX_METADATA": false,
              "HTML_TABLE_SCHEMA": false,
              "LOG_LEVEL": 30,
              "MAX_RENDER_SIZE_BYTES": 104857600,
              "MAX_STRING_LENGTH": 250,
              "NUM_PAST_SAMPLES_TRACKED": 3,
              "RANDOM_STATE": 12648430,
              "RESET_INDEX_VALUES": false,
              "ROW_SAMPLING_METHOD": "random",
              "SAMPLING_FACTOR": 0.1,
              "SAMPLING_METHOD": "random",
              "STRINGIFY_COLUMN_VALUES": true,
              "STRINGIFY_INDEX_VALUES": false
            },
            "sample_history": [],
            "sampling_time": "2023-09-01T21:56:59.072815",
            "user_variable_name": null,
            "variable_name": "unk_dataframe_c44967bcc4aa4cd8b5ff23999901c68c"
          },
          "774dcdf4-415e-4746-8640-62b25a263473": {
            "applied_filters": [],
            "dataframe_info": {
              "default_index_used": true,
              "orig_num_cols": 3,
              "orig_num_rows": 3,
              "orig_size_bytes": 96,
              "truncated_num_cols": 3,
              "truncated_num_rows": 3,
              "truncated_size_bytes": 96,
              "truncated_string_columns": []
            },
            "display_id": "774dcdf4-415e-4746-8640-62b25a263473",
            "dx_settings": {
              "ALLOW_NOTEABLE_ATTRS": true,
              "COLUMN_SAMPLING_METHOD": "outer",
              "DB_LOCATION": ":memory:",
              "DEV_MODE": false,
              "DISPLAY_MAX_COLUMNS": 100,
              "DISPLAY_MAX_ROWS": 50000,
              "DISPLAY_MODE": "simple",
              "ENABLE_ASSIGNMENT": true,
              "ENABLE_DATALINK": true,
              "FLATTEN_COLUMN_VALUES": true,
              "FLATTEN_INDEX_VALUES": false,
              "GENERATE_DEX_METADATA": false,
              "HTML_TABLE_SCHEMA": false,
              "LOG_LEVEL": 30,
              "MAX_RENDER_SIZE_BYTES": 104857600,
              "MAX_STRING_LENGTH": 250,
              "NUM_PAST_SAMPLES_TRACKED": 3,
              "RANDOM_STATE": 12648430,
              "RESET_INDEX_VALUES": false,
              "ROW_SAMPLING_METHOD": "random",
              "SAMPLING_FACTOR": 0.1,
              "SAMPLING_METHOD": "random",
              "STRINGIFY_COLUMN_VALUES": true,
              "STRINGIFY_INDEX_VALUES": false
            },
            "sample_history": [],
            "sampling_time": "2023-09-04T19:15:13.684309",
            "user_variable_name": null,
            "variable_name": "unk_dataframe_94672e717fb449d8a29cfd636acacd70"
          },
          "7bd1e1f0-cb7d-42ca-ad66-bc398c192d83": {
            "applied_filters": [],
            "dataframe_info": {
              "default_index_used": true,
              "orig_num_cols": 3,
              "orig_num_rows": 3,
              "orig_size_bytes": 96,
              "truncated_num_cols": 3,
              "truncated_num_rows": 3,
              "truncated_size_bytes": 96,
              "truncated_string_columns": []
            },
            "display_id": "7bd1e1f0-cb7d-42ca-ad66-bc398c192d83",
            "dx_settings": {
              "ALLOW_NOTEABLE_ATTRS": true,
              "COLUMN_SAMPLING_METHOD": "outer",
              "DB_LOCATION": ":memory:",
              "DEV_MODE": false,
              "DISPLAY_MAX_COLUMNS": 100,
              "DISPLAY_MAX_ROWS": 50000,
              "DISPLAY_MODE": "simple",
              "ENABLE_ASSIGNMENT": true,
              "ENABLE_DATALINK": true,
              "FLATTEN_COLUMN_VALUES": true,
              "FLATTEN_INDEX_VALUES": false,
              "GENERATE_DEX_METADATA": false,
              "HTML_TABLE_SCHEMA": false,
              "LOG_LEVEL": 30,
              "MAX_RENDER_SIZE_BYTES": 104857600,
              "MAX_STRING_LENGTH": 250,
              "NUM_PAST_SAMPLES_TRACKED": 3,
              "RANDOM_STATE": 12648430,
              "RESET_INDEX_VALUES": false,
              "ROW_SAMPLING_METHOD": "random",
              "SAMPLING_FACTOR": 0.1,
              "SAMPLING_METHOD": "random",
              "STRINGIFY_COLUMN_VALUES": true,
              "STRINGIFY_INDEX_VALUES": false
            },
            "sample_history": [],
            "sampling_time": "2023-09-01T23:33:34.031732",
            "user_variable_name": null,
            "variable_name": "unk_dataframe_a27c84636d184718a47e408de7d1c585"
          },
          "8690f4b7-e577-4534-a126-e605c3f0bb6b": {
            "applied_filters": [],
            "dataframe_info": {
              "default_index_used": false,
              "orig_num_cols": 1,
              "orig_num_rows": 84,
              "orig_size_bytes": 1344,
              "truncated_num_cols": 1,
              "truncated_num_rows": 84,
              "truncated_size_bytes": 1344,
              "truncated_string_columns": []
            },
            "display_id": "8690f4b7-e577-4534-a126-e605c3f0bb6b",
            "dx_settings": {
              "ALLOW_NOTEABLE_ATTRS": true,
              "COLUMN_SAMPLING_METHOD": "outer",
              "DB_LOCATION": ":memory:",
              "DEV_MODE": false,
              "DISPLAY_MAX_COLUMNS": 100,
              "DISPLAY_MAX_ROWS": 50000,
              "DISPLAY_MODE": "simple",
              "ENABLE_ASSIGNMENT": true,
              "ENABLE_DATALINK": true,
              "FLATTEN_COLUMN_VALUES": true,
              "FLATTEN_INDEX_VALUES": false,
              "GENERATE_DEX_METADATA": false,
              "HTML_TABLE_SCHEMA": false,
              "LOG_LEVEL": 30,
              "MAX_RENDER_SIZE_BYTES": 104857600,
              "MAX_STRING_LENGTH": 250,
              "NUM_PAST_SAMPLES_TRACKED": 3,
              "RANDOM_STATE": 12648430,
              "RESET_INDEX_VALUES": false,
              "ROW_SAMPLING_METHOD": "random",
              "SAMPLING_FACTOR": 0.1,
              "SAMPLING_METHOD": "random",
              "STRINGIFY_COLUMN_VALUES": true,
              "STRINGIFY_INDEX_VALUES": false
            },
            "sample_history": [],
            "sampling_time": "2023-09-01T21:57:03.424940",
            "user_variable_name": null,
            "variable_name": "unk_dataframe_9d2e39a3856b44e2b0b7e06f06317367"
          },
          "a9663757-f41d-4702-b337-024b6dcbd625": {
            "applied_filters": [],
            "dataframe_info": {
              "default_index_used": true,
              "orig_num_cols": 3,
              "orig_num_rows": 3,
              "orig_size_bytes": 96,
              "truncated_num_cols": 3,
              "truncated_num_rows": 3,
              "truncated_size_bytes": 96,
              "truncated_string_columns": []
            },
            "display_id": "a9663757-f41d-4702-b337-024b6dcbd625",
            "dx_settings": {
              "ALLOW_NOTEABLE_ATTRS": true,
              "COLUMN_SAMPLING_METHOD": "outer",
              "DB_LOCATION": ":memory:",
              "DEV_MODE": false,
              "DISPLAY_MAX_COLUMNS": 100,
              "DISPLAY_MAX_ROWS": 50000,
              "DISPLAY_MODE": "simple",
              "ENABLE_ASSIGNMENT": true,
              "ENABLE_DATALINK": true,
              "FLATTEN_COLUMN_VALUES": true,
              "FLATTEN_INDEX_VALUES": false,
              "GENERATE_DEX_METADATA": false,
              "HTML_TABLE_SCHEMA": false,
              "LOG_LEVEL": 30,
              "MAX_RENDER_SIZE_BYTES": 104857600,
              "MAX_STRING_LENGTH": 250,
              "NUM_PAST_SAMPLES_TRACKED": 3,
              "RANDOM_STATE": 12648430,
              "RESET_INDEX_VALUES": false,
              "ROW_SAMPLING_METHOD": "random",
              "SAMPLING_FACTOR": 0.1,
              "SAMPLING_METHOD": "random",
              "STRINGIFY_COLUMN_VALUES": true,
              "STRINGIFY_INDEX_VALUES": false
            },
            "sample_history": [],
            "sampling_time": "2023-09-01T21:59:04.935786",
            "user_variable_name": null,
            "variable_name": "unk_dataframe_e2456efbd55e457495262100b0028c9d"
          },
          "c06fb3f0-4261-4309-b209-0cb53cabd88d": {
            "applied_filters": [],
            "dataframe_info": {
              "default_index_used": true,
              "orig_num_cols": 3,
              "orig_num_rows": 3,
              "orig_size_bytes": 96,
              "truncated_num_cols": 3,
              "truncated_num_rows": 3,
              "truncated_size_bytes": 96,
              "truncated_string_columns": []
            },
            "display_id": "c06fb3f0-4261-4309-b209-0cb53cabd88d",
            "dx_settings": {
              "ALLOW_NOTEABLE_ATTRS": true,
              "COLUMN_SAMPLING_METHOD": "outer",
              "DB_LOCATION": ":memory:",
              "DEV_MODE": false,
              "DISPLAY_MAX_COLUMNS": 100,
              "DISPLAY_MAX_ROWS": 50000,
              "DISPLAY_MODE": "simple",
              "ENABLE_ASSIGNMENT": true,
              "ENABLE_DATALINK": true,
              "FLATTEN_COLUMN_VALUES": true,
              "FLATTEN_INDEX_VALUES": false,
              "GENERATE_DEX_METADATA": false,
              "HTML_TABLE_SCHEMA": false,
              "LOG_LEVEL": 30,
              "MAX_RENDER_SIZE_BYTES": 104857600,
              "MAX_STRING_LENGTH": 250,
              "NUM_PAST_SAMPLES_TRACKED": 3,
              "RANDOM_STATE": 12648430,
              "RESET_INDEX_VALUES": false,
              "ROW_SAMPLING_METHOD": "random",
              "SAMPLING_FACTOR": 0.1,
              "SAMPLING_METHOD": "random",
              "STRINGIFY_COLUMN_VALUES": true,
              "STRINGIFY_INDEX_VALUES": false
            },
            "sample_history": [],
            "sampling_time": "2023-09-01T23:54:47.627667",
            "user_variable_name": null,
            "variable_name": "unk_dataframe_9677b4ac129a49e2b9f8301da219d7fc"
          },
          "c38e14f4-72d4-4020-9d0b-dc58a2fb46cc": {
            "applied_filters": [],
            "dataframe_info": {
              "default_index_used": false,
              "orig_num_cols": 1,
              "orig_num_rows": 2,
              "orig_size_bytes": 32,
              "truncated_num_cols": 1,
              "truncated_num_rows": 2,
              "truncated_size_bytes": 32,
              "truncated_string_columns": []
            },
            "display_id": "c38e14f4-72d4-4020-9d0b-dc58a2fb46cc",
            "dx_settings": {
              "ALLOW_NOTEABLE_ATTRS": true,
              "COLUMN_SAMPLING_METHOD": "outer",
              "DB_LOCATION": ":memory:",
              "DEV_MODE": false,
              "DISPLAY_MAX_COLUMNS": 100,
              "DISPLAY_MAX_ROWS": 50000,
              "DISPLAY_MODE": "simple",
              "ENABLE_ASSIGNMENT": true,
              "ENABLE_DATALINK": true,
              "FLATTEN_COLUMN_VALUES": true,
              "FLATTEN_INDEX_VALUES": false,
              "GENERATE_DEX_METADATA": false,
              "HTML_TABLE_SCHEMA": false,
              "LOG_LEVEL": 30,
              "MAX_RENDER_SIZE_BYTES": 104857600,
              "MAX_STRING_LENGTH": 250,
              "NUM_PAST_SAMPLES_TRACKED": 3,
              "RANDOM_STATE": 12648430,
              "RESET_INDEX_VALUES": false,
              "ROW_SAMPLING_METHOD": "random",
              "SAMPLING_FACTOR": 0.1,
              "SAMPLING_METHOD": "random",
              "STRINGIFY_COLUMN_VALUES": true,
              "STRINGIFY_INDEX_VALUES": false
            },
            "sample_history": [],
            "sampling_time": "2023-09-01T21:57:52.425523",
            "user_variable_name": null,
            "variable_name": "unk_dataframe_c35015b0fd1844de95aafd6f17934fd7"
          },
          "c44421d4-7b1a-4f10-a18f-504695b0c455": {
            "applied_filters": [],
            "dataframe_info": {
              "default_index_used": true,
              "orig_num_cols": 3,
              "orig_num_rows": 3,
              "orig_size_bytes": 96,
              "truncated_num_cols": 3,
              "truncated_num_rows": 3,
              "truncated_size_bytes": 96,
              "truncated_string_columns": []
            },
            "display_id": "c44421d4-7b1a-4f10-a18f-504695b0c455",
            "dx_settings": {
              "ALLOW_NOTEABLE_ATTRS": true,
              "COLUMN_SAMPLING_METHOD": "outer",
              "DB_LOCATION": ":memory:",
              "DEV_MODE": false,
              "DISPLAY_MAX_COLUMNS": 100,
              "DISPLAY_MAX_ROWS": 50000,
              "DISPLAY_MODE": "simple",
              "ENABLE_ASSIGNMENT": true,
              "ENABLE_DATALINK": true,
              "FLATTEN_COLUMN_VALUES": true,
              "FLATTEN_INDEX_VALUES": false,
              "GENERATE_DEX_METADATA": false,
              "HTML_TABLE_SCHEMA": false,
              "LOG_LEVEL": 30,
              "MAX_RENDER_SIZE_BYTES": 104857600,
              "MAX_STRING_LENGTH": 250,
              "NUM_PAST_SAMPLES_TRACKED": 3,
              "RANDOM_STATE": 12648430,
              "RESET_INDEX_VALUES": false,
              "ROW_SAMPLING_METHOD": "random",
              "SAMPLING_FACTOR": 0.1,
              "SAMPLING_METHOD": "random",
              "STRINGIFY_COLUMN_VALUES": true,
              "STRINGIFY_INDEX_VALUES": false
            },
            "sample_history": [],
            "sampling_time": "2023-09-04T19:14:16.825659",
            "user_variable_name": null,
            "variable_name": "unk_dataframe_fcc6607f78984c0fb15e0022811a6c25"
          },
          "c46eb96f-c1cb-4854-9a2f-53e8344b025e": {
            "applied_filters": [],
            "dataframe_info": {
              "default_index_used": true,
              "orig_num_cols": 3,
              "orig_num_rows": 3,
              "orig_size_bytes": 96,
              "truncated_num_cols": 3,
              "truncated_num_rows": 3,
              "truncated_size_bytes": 96,
              "truncated_string_columns": []
            },
            "display_id": "c46eb96f-c1cb-4854-9a2f-53e8344b025e",
            "dx_settings": {
              "ALLOW_NOTEABLE_ATTRS": true,
              "COLUMN_SAMPLING_METHOD": "outer",
              "DB_LOCATION": ":memory:",
              "DEV_MODE": false,
              "DISPLAY_MAX_COLUMNS": 100,
              "DISPLAY_MAX_ROWS": 50000,
              "DISPLAY_MODE": "simple",
              "ENABLE_ASSIGNMENT": true,
              "ENABLE_DATALINK": true,
              "FLATTEN_COLUMN_VALUES": true,
              "FLATTEN_INDEX_VALUES": false,
              "GENERATE_DEX_METADATA": false,
              "HTML_TABLE_SCHEMA": false,
              "LOG_LEVEL": 30,
              "MAX_RENDER_SIZE_BYTES": 104857600,
              "MAX_STRING_LENGTH": 250,
              "NUM_PAST_SAMPLES_TRACKED": 3,
              "RANDOM_STATE": 12648430,
              "RESET_INDEX_VALUES": false,
              "ROW_SAMPLING_METHOD": "random",
              "SAMPLING_FACTOR": 0.1,
              "SAMPLING_METHOD": "random",
              "STRINGIFY_COLUMN_VALUES": true,
              "STRINGIFY_INDEX_VALUES": false
            },
            "sample_history": [],
            "sampling_time": "2023-09-04T19:15:07.959281",
            "user_variable_name": null,
            "variable_name": "unk_dataframe_142bda94028e44e9bb6207d01d08eede"
          },
          "c625b74e-df96-42fc-853b-c0a567a78902": {
            "applied_filters": [],
            "dataframe_info": {
              "default_index_used": true,
              "orig_num_cols": 3,
              "orig_num_rows": 3,
              "orig_size_bytes": 96,
              "truncated_num_cols": 3,
              "truncated_num_rows": 3,
              "truncated_size_bytes": 96,
              "truncated_string_columns": []
            },
            "display_id": "c625b74e-df96-42fc-853b-c0a567a78902",
            "dx_settings": {
              "ALLOW_NOTEABLE_ATTRS": true,
              "COLUMN_SAMPLING_METHOD": "outer",
              "DB_LOCATION": ":memory:",
              "DEV_MODE": false,
              "DISPLAY_MAX_COLUMNS": 100,
              "DISPLAY_MAX_ROWS": 50000,
              "DISPLAY_MODE": "simple",
              "ENABLE_ASSIGNMENT": true,
              "ENABLE_DATALINK": true,
              "FLATTEN_COLUMN_VALUES": true,
              "FLATTEN_INDEX_VALUES": false,
              "GENERATE_DEX_METADATA": false,
              "HTML_TABLE_SCHEMA": false,
              "LOG_LEVEL": 30,
              "MAX_RENDER_SIZE_BYTES": 104857600,
              "MAX_STRING_LENGTH": 250,
              "NUM_PAST_SAMPLES_TRACKED": 3,
              "RANDOM_STATE": 12648430,
              "RESET_INDEX_VALUES": false,
              "ROW_SAMPLING_METHOD": "random",
              "SAMPLING_FACTOR": 0.1,
              "SAMPLING_METHOD": "random",
              "STRINGIFY_COLUMN_VALUES": true,
              "STRINGIFY_INDEX_VALUES": false
            },
            "sample_history": [],
            "sampling_time": "2023-09-01T23:27:54.724863",
            "user_variable_name": null,
            "variable_name": "unk_dataframe_44aef76e035d4e3eb5822f7856538ffd"
          },
          "d2b8a367-0a5b-4be0-a16c-3e8a843136eb": {
            "applied_filters": [],
            "dataframe_info": {
              "default_index_used": true,
              "orig_num_cols": 3,
              "orig_num_rows": 3,
              "orig_size_bytes": 96,
              "truncated_num_cols": 3,
              "truncated_num_rows": 3,
              "truncated_size_bytes": 96,
              "truncated_string_columns": []
            },
            "display_id": "d2b8a367-0a5b-4be0-a16c-3e8a843136eb",
            "dx_settings": {
              "ALLOW_NOTEABLE_ATTRS": true,
              "COLUMN_SAMPLING_METHOD": "outer",
              "DB_LOCATION": ":memory:",
              "DEV_MODE": false,
              "DISPLAY_MAX_COLUMNS": 100,
              "DISPLAY_MAX_ROWS": 50000,
              "DISPLAY_MODE": "simple",
              "ENABLE_ASSIGNMENT": true,
              "ENABLE_DATALINK": true,
              "FLATTEN_COLUMN_VALUES": true,
              "FLATTEN_INDEX_VALUES": false,
              "GENERATE_DEX_METADATA": false,
              "HTML_TABLE_SCHEMA": false,
              "LOG_LEVEL": 30,
              "MAX_RENDER_SIZE_BYTES": 104857600,
              "MAX_STRING_LENGTH": 250,
              "NUM_PAST_SAMPLES_TRACKED": 3,
              "RANDOM_STATE": 12648430,
              "RESET_INDEX_VALUES": false,
              "ROW_SAMPLING_METHOD": "random",
              "SAMPLING_FACTOR": 0.1,
              "SAMPLING_METHOD": "random",
              "STRINGIFY_COLUMN_VALUES": true,
              "STRINGIFY_INDEX_VALUES": false
            },
            "sample_history": [],
            "sampling_time": "2023-09-01T22:36:43.948220",
            "user_variable_name": null,
            "variable_name": "unk_dataframe_9605aa015de4457fb0fe5ae29638336d"
          },
          "dea75dee-c37a-4503-a2f2-8063f2776108": {
            "applied_filters": [],
            "dataframe_info": {
              "default_index_used": true,
              "orig_num_cols": 3,
              "orig_num_rows": 3,
              "orig_size_bytes": 75,
              "truncated_num_cols": 3,
              "truncated_num_rows": 3,
              "truncated_size_bytes": 75,
              "truncated_string_columns": []
            },
            "display_id": "dea75dee-c37a-4503-a2f2-8063f2776108",
            "dx_settings": {
              "ALLOW_NOTEABLE_ATTRS": true,
              "COLUMN_SAMPLING_METHOD": "outer",
              "DB_LOCATION": ":memory:",
              "DEV_MODE": false,
              "DISPLAY_MAX_COLUMNS": 100,
              "DISPLAY_MAX_ROWS": 50000,
              "DISPLAY_MODE": "simple",
              "ENABLE_ASSIGNMENT": true,
              "ENABLE_DATALINK": true,
              "FLATTEN_COLUMN_VALUES": true,
              "FLATTEN_INDEX_VALUES": false,
              "GENERATE_DEX_METADATA": false,
              "HTML_TABLE_SCHEMA": false,
              "LOG_LEVEL": 30,
              "MAX_RENDER_SIZE_BYTES": 104857600,
              "MAX_STRING_LENGTH": 250,
              "NUM_PAST_SAMPLES_TRACKED": 3,
              "RANDOM_STATE": 12648430,
              "RESET_INDEX_VALUES": false,
              "ROW_SAMPLING_METHOD": "random",
              "SAMPLING_FACTOR": 0.1,
              "SAMPLING_METHOD": "random",
              "STRINGIFY_COLUMN_VALUES": true,
              "STRINGIFY_INDEX_VALUES": false
            },
            "sample_history": [],
            "sampling_time": "2023-09-04T19:14:52.329542",
            "user_variable_name": null,
            "variable_name": "unk_dataframe_a66696df03ba4659be9869245ba41509"
          },
          "e00a70f0-8e6c-45a6-90ca-a5ae192f52ea": {
            "applied_filters": [],
            "dataframe_info": {
              "default_index_used": false,
              "orig_num_cols": 1,
              "orig_num_rows": 85,
              "orig_size_bytes": 1360,
              "truncated_num_cols": 1,
              "truncated_num_rows": 85,
              "truncated_size_bytes": 1360,
              "truncated_string_columns": []
            },
            "display_id": "e00a70f0-8e6c-45a6-90ca-a5ae192f52ea",
            "dx_settings": {
              "ALLOW_NOTEABLE_ATTRS": true,
              "COLUMN_SAMPLING_METHOD": "outer",
              "DB_LOCATION": ":memory:",
              "DEV_MODE": false,
              "DISPLAY_MAX_COLUMNS": 100,
              "DISPLAY_MAX_ROWS": 50000,
              "DISPLAY_MODE": "simple",
              "ENABLE_ASSIGNMENT": true,
              "ENABLE_DATALINK": true,
              "FLATTEN_COLUMN_VALUES": true,
              "FLATTEN_INDEX_VALUES": false,
              "GENERATE_DEX_METADATA": false,
              "HTML_TABLE_SCHEMA": false,
              "LOG_LEVEL": 30,
              "MAX_RENDER_SIZE_BYTES": 104857600,
              "MAX_STRING_LENGTH": 250,
              "NUM_PAST_SAMPLES_TRACKED": 3,
              "RANDOM_STATE": 12648430,
              "RESET_INDEX_VALUES": false,
              "ROW_SAMPLING_METHOD": "random",
              "SAMPLING_FACTOR": 0.1,
              "SAMPLING_METHOD": "random",
              "STRINGIFY_COLUMN_VALUES": true,
              "STRINGIFY_INDEX_VALUES": false
            },
            "sample_history": [],
            "sampling_time": "2023-09-01T21:52:43.268999",
            "user_variable_name": null,
            "variable_name": "unk_dataframe_04d063e05c3248bc8644c0591852f3ee"
          },
          "f304073e-a5a5-45c7-ac84-bd194d551f85": {
            "applied_filters": [],
            "dataframe_info": {
              "default_index_used": true,
              "orig_num_cols": 3,
              "orig_num_rows": 3,
              "orig_size_bytes": 96,
              "truncated_num_cols": 3,
              "truncated_num_rows": 3,
              "truncated_size_bytes": 96,
              "truncated_string_columns": []
            },
            "display_id": "f304073e-a5a5-45c7-ac84-bd194d551f85",
            "dx_settings": {
              "ALLOW_NOTEABLE_ATTRS": true,
              "COLUMN_SAMPLING_METHOD": "outer",
              "DB_LOCATION": ":memory:",
              "DEV_MODE": false,
              "DISPLAY_MAX_COLUMNS": 100,
              "DISPLAY_MAX_ROWS": 50000,
              "DISPLAY_MODE": "simple",
              "ENABLE_ASSIGNMENT": true,
              "ENABLE_DATALINK": true,
              "FLATTEN_COLUMN_VALUES": true,
              "FLATTEN_INDEX_VALUES": false,
              "GENERATE_DEX_METADATA": false,
              "HTML_TABLE_SCHEMA": false,
              "LOG_LEVEL": 30,
              "MAX_RENDER_SIZE_BYTES": 104857600,
              "MAX_STRING_LENGTH": 250,
              "NUM_PAST_SAMPLES_TRACKED": 3,
              "RANDOM_STATE": 12648430,
              "RESET_INDEX_VALUES": false,
              "ROW_SAMPLING_METHOD": "random",
              "SAMPLING_FACTOR": 0.1,
              "SAMPLING_METHOD": "random",
              "STRINGIFY_COLUMN_VALUES": true,
              "STRINGIFY_INDEX_VALUES": false
            },
            "sample_history": [],
            "sampling_time": "2023-09-01T23:49:47.125584",
            "user_variable_name": null,
            "variable_name": "unk_dataframe_a38e967368434a43ae71c1cbfa7fc6a1"
          }
        },
        "dx": {
          "fieldMetadata": {},
          "simpleTable": true,
          "updated": 1693605458303,
          "views": []
        },
        "noteable": {
          "cell_type": "code"
        }
      },
      "outputs": [
        {
          "ename": "FileNotFoundError",
          "evalue": "[Errno 2] No such file or directory: 'y_clean.csv'",
          "output_type": "error",
          "traceback": [
            "\u001b[0;31m---------------------------------------------------------------------------\u001b[0m",
            "\u001b[0;31mFileNotFoundError\u001b[0m                         Traceback (most recent call last)",
            "Cell \u001b[0;32mIn[2], line 1\u001b[0m\n\u001b[0;32m----> 1\u001b[0m xy \u001b[39m=\u001b[39m pd\u001b[39m.\u001b[39;49mread_csv(\u001b[39m'\u001b[39;49m\u001b[39my_clean.csv\u001b[39;49m\u001b[39m'\u001b[39;49m)\u001b[39m.\u001b[39mdrop(columns\u001b[39m=\u001b[39m[\u001b[39m'\u001b[39m\u001b[39mtext\u001b[39m\u001b[39m'\u001b[39m])\\\n\u001b[1;32m      2\u001b[0m     \u001b[39m.\u001b[39massign(cat\u001b[39m=\u001b[39m\u001b[39mlambda\u001b[39;00m d: d[\u001b[39m'\u001b[39m\u001b[39mcat\u001b[39m\u001b[39m'\u001b[39m]\u001b[39m.\u001b[39mstr\u001b[39m.\u001b[39mstrip())\\\n\u001b[1;32m      3\u001b[0m     \u001b[39m.\u001b[39mpipe(\u001b[39mlambda\u001b[39;00m d: pd\u001b[39m.\u001b[39mget_dummies(d, prefix\u001b[39m=\u001b[39m\u001b[39m'\u001b[39m\u001b[39mcat\u001b[39m\u001b[39m'\u001b[39m, columns\u001b[39m=\u001b[39m[\u001b[39m'\u001b[39m\u001b[39mcat\u001b[39m\u001b[39m'\u001b[39m], drop_first\u001b[39m=\u001b[39m\u001b[39mTrue\u001b[39;00m))\\\n\u001b[1;32m      4\u001b[0m     \u001b[39m.\u001b[39mrename(columns\u001b[39m=\u001b[39m{\u001b[39m'\u001b[39m\u001b[39mlabel\u001b[39m\u001b[39m'\u001b[39m: \u001b[39m'\u001b[39m\u001b[39my\u001b[39m\u001b[39m'\u001b[39m})\\\n\u001b[1;32m      5\u001b[0m     \u001b[39m.\u001b[39massign(y \u001b[39m=\u001b[39m \u001b[39mlambda\u001b[39;00m d: (\u001b[39m~\u001b[39md[\u001b[39m'\u001b[39m\u001b[39my\u001b[39m\u001b[39m'\u001b[39m]\u001b[39m.\u001b[39mastype(\u001b[39mbool\u001b[39m))\u001b[39m.\u001b[39mastype(\u001b[39mint\u001b[39m))\n\u001b[1;32m      6\u001b[0m \u001b[39mprint\u001b[39m(xy\u001b[39m.\u001b[39mshape)\n\u001b[1;32m      7\u001b[0m xy\u001b[39m.\u001b[39miloc[:\u001b[39m3\u001b[39m,:\u001b[39m3\u001b[39m]\n",
            "File \u001b[0;32m~/.local/lib/python3.10/site-packages/pandas/util/_decorators.py:211\u001b[0m, in \u001b[0;36mdeprecate_kwarg.<locals>._deprecate_kwarg.<locals>.wrapper\u001b[0;34m(*args, **kwargs)\u001b[0m\n\u001b[1;32m    209\u001b[0m     \u001b[39melse\u001b[39;00m:\n\u001b[1;32m    210\u001b[0m         kwargs[new_arg_name] \u001b[39m=\u001b[39m new_arg_value\n\u001b[0;32m--> 211\u001b[0m \u001b[39mreturn\u001b[39;00m func(\u001b[39m*\u001b[39;49margs, \u001b[39m*\u001b[39;49m\u001b[39m*\u001b[39;49mkwargs)\n",
            "File \u001b[0;32m~/.local/lib/python3.10/site-packages/pandas/util/_decorators.py:331\u001b[0m, in \u001b[0;36mdeprecate_nonkeyword_arguments.<locals>.decorate.<locals>.wrapper\u001b[0;34m(*args, **kwargs)\u001b[0m\n\u001b[1;32m    325\u001b[0m \u001b[39mif\u001b[39;00m \u001b[39mlen\u001b[39m(args) \u001b[39m>\u001b[39m num_allow_args:\n\u001b[1;32m    326\u001b[0m     warnings\u001b[39m.\u001b[39mwarn(\n\u001b[1;32m    327\u001b[0m         msg\u001b[39m.\u001b[39mformat(arguments\u001b[39m=\u001b[39m_format_argument_list(allow_args)),\n\u001b[1;32m    328\u001b[0m         \u001b[39mFutureWarning\u001b[39;00m,\n\u001b[1;32m    329\u001b[0m         stacklevel\u001b[39m=\u001b[39mfind_stack_level(),\n\u001b[1;32m    330\u001b[0m     )\n\u001b[0;32m--> 331\u001b[0m \u001b[39mreturn\u001b[39;00m func(\u001b[39m*\u001b[39;49margs, \u001b[39m*\u001b[39;49m\u001b[39m*\u001b[39;49mkwargs)\n",
            "File \u001b[0;32m~/.local/lib/python3.10/site-packages/pandas/io/parsers/readers.py:950\u001b[0m, in \u001b[0;36mread_csv\u001b[0;34m(filepath_or_buffer, sep, delimiter, header, names, index_col, usecols, squeeze, prefix, mangle_dupe_cols, dtype, engine, converters, true_values, false_values, skipinitialspace, skiprows, skipfooter, nrows, na_values, keep_default_na, na_filter, verbose, skip_blank_lines, parse_dates, infer_datetime_format, keep_date_col, date_parser, dayfirst, cache_dates, iterator, chunksize, compression, thousands, decimal, lineterminator, quotechar, quoting, doublequote, escapechar, comment, encoding, encoding_errors, dialect, error_bad_lines, warn_bad_lines, on_bad_lines, delim_whitespace, low_memory, memory_map, float_precision, storage_options)\u001b[0m\n\u001b[1;32m    935\u001b[0m kwds_defaults \u001b[39m=\u001b[39m _refine_defaults_read(\n\u001b[1;32m    936\u001b[0m     dialect,\n\u001b[1;32m    937\u001b[0m     delimiter,\n\u001b[0;32m   (...)\u001b[0m\n\u001b[1;32m    946\u001b[0m     defaults\u001b[39m=\u001b[39m{\u001b[39m\"\u001b[39m\u001b[39mdelimiter\u001b[39m\u001b[39m\"\u001b[39m: \u001b[39m\"\u001b[39m\u001b[39m,\u001b[39m\u001b[39m\"\u001b[39m},\n\u001b[1;32m    947\u001b[0m )\n\u001b[1;32m    948\u001b[0m kwds\u001b[39m.\u001b[39mupdate(kwds_defaults)\n\u001b[0;32m--> 950\u001b[0m \u001b[39mreturn\u001b[39;00m _read(filepath_or_buffer, kwds)\n",
            "File \u001b[0;32m~/.local/lib/python3.10/site-packages/pandas/io/parsers/readers.py:605\u001b[0m, in \u001b[0;36m_read\u001b[0;34m(filepath_or_buffer, kwds)\u001b[0m\n\u001b[1;32m    602\u001b[0m _validate_names(kwds\u001b[39m.\u001b[39mget(\u001b[39m\"\u001b[39m\u001b[39mnames\u001b[39m\u001b[39m\"\u001b[39m, \u001b[39mNone\u001b[39;00m))\n\u001b[1;32m    604\u001b[0m \u001b[39m# Create the parser.\u001b[39;00m\n\u001b[0;32m--> 605\u001b[0m parser \u001b[39m=\u001b[39m TextFileReader(filepath_or_buffer, \u001b[39m*\u001b[39;49m\u001b[39m*\u001b[39;49mkwds)\n\u001b[1;32m    607\u001b[0m \u001b[39mif\u001b[39;00m chunksize \u001b[39mor\u001b[39;00m iterator:\n\u001b[1;32m    608\u001b[0m     \u001b[39mreturn\u001b[39;00m parser\n",
            "File \u001b[0;32m~/.local/lib/python3.10/site-packages/pandas/io/parsers/readers.py:1442\u001b[0m, in \u001b[0;36mTextFileReader.__init__\u001b[0;34m(self, f, engine, **kwds)\u001b[0m\n\u001b[1;32m   1439\u001b[0m     \u001b[39mself\u001b[39m\u001b[39m.\u001b[39moptions[\u001b[39m\"\u001b[39m\u001b[39mhas_index_names\u001b[39m\u001b[39m\"\u001b[39m] \u001b[39m=\u001b[39m kwds[\u001b[39m\"\u001b[39m\u001b[39mhas_index_names\u001b[39m\u001b[39m\"\u001b[39m]\n\u001b[1;32m   1441\u001b[0m \u001b[39mself\u001b[39m\u001b[39m.\u001b[39mhandles: IOHandles \u001b[39m|\u001b[39m \u001b[39mNone\u001b[39;00m \u001b[39m=\u001b[39m \u001b[39mNone\u001b[39;00m\n\u001b[0;32m-> 1442\u001b[0m \u001b[39mself\u001b[39m\u001b[39m.\u001b[39m_engine \u001b[39m=\u001b[39m \u001b[39mself\u001b[39;49m\u001b[39m.\u001b[39;49m_make_engine(f, \u001b[39mself\u001b[39;49m\u001b[39m.\u001b[39;49mengine)\n",
            "File \u001b[0;32m~/.local/lib/python3.10/site-packages/pandas/io/parsers/readers.py:1735\u001b[0m, in \u001b[0;36mTextFileReader._make_engine\u001b[0;34m(self, f, engine)\u001b[0m\n\u001b[1;32m   1733\u001b[0m     \u001b[39mif\u001b[39;00m \u001b[39m\"\u001b[39m\u001b[39mb\u001b[39m\u001b[39m\"\u001b[39m \u001b[39mnot\u001b[39;00m \u001b[39min\u001b[39;00m mode:\n\u001b[1;32m   1734\u001b[0m         mode \u001b[39m+\u001b[39m\u001b[39m=\u001b[39m \u001b[39m\"\u001b[39m\u001b[39mb\u001b[39m\u001b[39m\"\u001b[39m\n\u001b[0;32m-> 1735\u001b[0m \u001b[39mself\u001b[39m\u001b[39m.\u001b[39mhandles \u001b[39m=\u001b[39m get_handle(\n\u001b[1;32m   1736\u001b[0m     f,\n\u001b[1;32m   1737\u001b[0m     mode,\n\u001b[1;32m   1738\u001b[0m     encoding\u001b[39m=\u001b[39;49m\u001b[39mself\u001b[39;49m\u001b[39m.\u001b[39;49moptions\u001b[39m.\u001b[39;49mget(\u001b[39m\"\u001b[39;49m\u001b[39mencoding\u001b[39;49m\u001b[39m\"\u001b[39;49m, \u001b[39mNone\u001b[39;49;00m),\n\u001b[1;32m   1739\u001b[0m     compression\u001b[39m=\u001b[39;49m\u001b[39mself\u001b[39;49m\u001b[39m.\u001b[39;49moptions\u001b[39m.\u001b[39;49mget(\u001b[39m\"\u001b[39;49m\u001b[39mcompression\u001b[39;49m\u001b[39m\"\u001b[39;49m, \u001b[39mNone\u001b[39;49;00m),\n\u001b[1;32m   1740\u001b[0m     memory_map\u001b[39m=\u001b[39;49m\u001b[39mself\u001b[39;49m\u001b[39m.\u001b[39;49moptions\u001b[39m.\u001b[39;49mget(\u001b[39m\"\u001b[39;49m\u001b[39mmemory_map\u001b[39;49m\u001b[39m\"\u001b[39;49m, \u001b[39mFalse\u001b[39;49;00m),\n\u001b[1;32m   1741\u001b[0m     is_text\u001b[39m=\u001b[39;49mis_text,\n\u001b[1;32m   1742\u001b[0m     errors\u001b[39m=\u001b[39;49m\u001b[39mself\u001b[39;49m\u001b[39m.\u001b[39;49moptions\u001b[39m.\u001b[39;49mget(\u001b[39m\"\u001b[39;49m\u001b[39mencoding_errors\u001b[39;49m\u001b[39m\"\u001b[39;49m, \u001b[39m\"\u001b[39;49m\u001b[39mstrict\u001b[39;49m\u001b[39m\"\u001b[39;49m),\n\u001b[1;32m   1743\u001b[0m     storage_options\u001b[39m=\u001b[39;49m\u001b[39mself\u001b[39;49m\u001b[39m.\u001b[39;49moptions\u001b[39m.\u001b[39;49mget(\u001b[39m\"\u001b[39;49m\u001b[39mstorage_options\u001b[39;49m\u001b[39m\"\u001b[39;49m, \u001b[39mNone\u001b[39;49;00m),\n\u001b[1;32m   1744\u001b[0m )\n\u001b[1;32m   1745\u001b[0m \u001b[39massert\u001b[39;00m \u001b[39mself\u001b[39m\u001b[39m.\u001b[39mhandles \u001b[39mis\u001b[39;00m \u001b[39mnot\u001b[39;00m \u001b[39mNone\u001b[39;00m\n\u001b[1;32m   1746\u001b[0m f \u001b[39m=\u001b[39m \u001b[39mself\u001b[39m\u001b[39m.\u001b[39mhandles\u001b[39m.\u001b[39mhandle\n",
            "File \u001b[0;32m~/.local/lib/python3.10/site-packages/pandas/io/common.py:856\u001b[0m, in \u001b[0;36mget_handle\u001b[0;34m(path_or_buf, mode, encoding, compression, memory_map, is_text, errors, storage_options)\u001b[0m\n\u001b[1;32m    851\u001b[0m \u001b[39melif\u001b[39;00m \u001b[39misinstance\u001b[39m(handle, \u001b[39mstr\u001b[39m):\n\u001b[1;32m    852\u001b[0m     \u001b[39m# Check whether the filename is to be opened in binary mode.\u001b[39;00m\n\u001b[1;32m    853\u001b[0m     \u001b[39m# Binary mode does not support 'encoding' and 'newline'.\u001b[39;00m\n\u001b[1;32m    854\u001b[0m     \u001b[39mif\u001b[39;00m ioargs\u001b[39m.\u001b[39mencoding \u001b[39mand\u001b[39;00m \u001b[39m\"\u001b[39m\u001b[39mb\u001b[39m\u001b[39m\"\u001b[39m \u001b[39mnot\u001b[39;00m \u001b[39min\u001b[39;00m ioargs\u001b[39m.\u001b[39mmode:\n\u001b[1;32m    855\u001b[0m         \u001b[39m# Encoding\u001b[39;00m\n\u001b[0;32m--> 856\u001b[0m         handle \u001b[39m=\u001b[39m \u001b[39mopen\u001b[39;49m(\n\u001b[1;32m    857\u001b[0m             handle,\n\u001b[1;32m    858\u001b[0m             ioargs\u001b[39m.\u001b[39;49mmode,\n\u001b[1;32m    859\u001b[0m             encoding\u001b[39m=\u001b[39;49mioargs\u001b[39m.\u001b[39;49mencoding,\n\u001b[1;32m    860\u001b[0m             errors\u001b[39m=\u001b[39;49merrors,\n\u001b[1;32m    861\u001b[0m             newline\u001b[39m=\u001b[39;49m\u001b[39m\"\u001b[39;49m\u001b[39m\"\u001b[39;49m,\n\u001b[1;32m    862\u001b[0m         )\n\u001b[1;32m    863\u001b[0m     \u001b[39melse\u001b[39;00m:\n\u001b[1;32m    864\u001b[0m         \u001b[39m# Binary mode\u001b[39;00m\n\u001b[1;32m    865\u001b[0m         handle \u001b[39m=\u001b[39m \u001b[39mopen\u001b[39m(handle, ioargs\u001b[39m.\u001b[39mmode)\n",
            "\u001b[0;31mFileNotFoundError\u001b[0m: [Errno 2] No such file or directory: 'y_clean.csv'"
          ]
        }
      ],
      "source": [
        "xy = pd.read_csv('y_clean.csv').drop(columns=['text'])\\\n",
        "    .assign(cat=lambda d: d['cat'].str.strip())\\\n",
        "    .pipe(lambda d: pd.get_dummies(d, prefix='cat', columns=['cat'], drop_first=True))\\\n",
        "    .rename(columns={'label': 'y'})\\\n",
        "    .assign(y = lambda d: (~d['y'].astype(bool)).astype(int))\n",
        "print(xy.shape)\n",
        "xy.iloc[:3,:3]"
      ]
    },
    {
      "cell_type": "code",
      "execution_count": 1,
      "id": "3548ab5c",
      "metadata": {},
      "outputs": [],
      "source": [
        "import pandas as pd"
      ]
    },
    {
      "cell_type": "code",
      "execution_count": null,
      "id": "e9a2720f-7ee4-4425-b94b-c10e9bf82d7b",
      "metadata": {
        "ExecuteTime": {
          "end_time": "2023-09-04T19:15:51.197003+00:00",
          "start_time": "2023-09-04T19:15:50.202860+00:00"
        },
        "datalink": {
          "283e2b38-9f46-41ba-b0a0-2ccd29099c76": {
            "applied_filters": [],
            "dataframe_info": {
              "default_index_used": false,
              "orig_num_cols": 1,
              "orig_num_rows": 122,
              "orig_size_bytes": 1952,
              "truncated_num_cols": 1,
              "truncated_num_rows": 122,
              "truncated_size_bytes": 1952,
              "truncated_string_columns": []
            },
            "display_id": "283e2b38-9f46-41ba-b0a0-2ccd29099c76",
            "dx_settings": {
              "ALLOW_NOTEABLE_ATTRS": true,
              "COLUMN_SAMPLING_METHOD": "outer",
              "DB_LOCATION": ":memory:",
              "DEV_MODE": false,
              "DISPLAY_MAX_COLUMNS": 100,
              "DISPLAY_MAX_ROWS": 50000,
              "DISPLAY_MODE": "simple",
              "ENABLE_ASSIGNMENT": true,
              "ENABLE_DATALINK": true,
              "FLATTEN_COLUMN_VALUES": true,
              "FLATTEN_INDEX_VALUES": false,
              "GENERATE_DEX_METADATA": false,
              "HTML_TABLE_SCHEMA": false,
              "LOG_LEVEL": 30,
              "MAX_RENDER_SIZE_BYTES": 104857600,
              "MAX_STRING_LENGTH": 250,
              "NUM_PAST_SAMPLES_TRACKED": 3,
              "RANDOM_STATE": 12648430,
              "RESET_INDEX_VALUES": false,
              "ROW_SAMPLING_METHOD": "random",
              "SAMPLING_FACTOR": 0.1,
              "SAMPLING_METHOD": "random",
              "STRINGIFY_COLUMN_VALUES": true,
              "STRINGIFY_INDEX_VALUES": false
            },
            "sample_history": [],
            "sampling_time": "2023-09-01T23:57:26.132882",
            "user_variable_name": null,
            "variable_name": "unk_dataframe_f84116693d35470985123c05ca58ea82"
          },
          "4ea9ae7e-ff51-4cc8-aa64-4513b51ab85e": {
            "applied_filters": [],
            "dataframe_info": {
              "default_index_used": false,
              "orig_num_cols": 1,
              "orig_num_rows": 122,
              "orig_size_bytes": 1952,
              "truncated_num_cols": 1,
              "truncated_num_rows": 122,
              "truncated_size_bytes": 1952,
              "truncated_string_columns": []
            },
            "display_id": "4ea9ae7e-ff51-4cc8-aa64-4513b51ab85e",
            "dx_settings": {
              "ALLOW_NOTEABLE_ATTRS": true,
              "COLUMN_SAMPLING_METHOD": "outer",
              "DB_LOCATION": ":memory:",
              "DEV_MODE": false,
              "DISPLAY_MAX_COLUMNS": 100,
              "DISPLAY_MAX_ROWS": 50000,
              "DISPLAY_MODE": "simple",
              "ENABLE_ASSIGNMENT": true,
              "ENABLE_DATALINK": true,
              "FLATTEN_COLUMN_VALUES": true,
              "FLATTEN_INDEX_VALUES": false,
              "GENERATE_DEX_METADATA": false,
              "HTML_TABLE_SCHEMA": false,
              "LOG_LEVEL": 30,
              "MAX_RENDER_SIZE_BYTES": 104857600,
              "MAX_STRING_LENGTH": 250,
              "NUM_PAST_SAMPLES_TRACKED": 3,
              "RANDOM_STATE": 12648430,
              "RESET_INDEX_VALUES": false,
              "ROW_SAMPLING_METHOD": "random",
              "SAMPLING_FACTOR": 0.1,
              "SAMPLING_METHOD": "random",
              "STRINGIFY_COLUMN_VALUES": true,
              "STRINGIFY_INDEX_VALUES": false
            },
            "sample_history": [],
            "sampling_time": "2023-09-01T23:57:01.293723",
            "user_variable_name": null,
            "variable_name": "unk_dataframe_8eafeaa27290403b840b9c9051f492fc"
          },
          "67d4d8da-72b2-438e-a0c6-ca537d9b1936": {
            "applied_filters": [],
            "dataframe_info": {
              "default_index_used": false,
              "orig_num_cols": 1,
              "orig_num_rows": 122,
              "orig_size_bytes": 1952,
              "truncated_num_cols": 1,
              "truncated_num_rows": 122,
              "truncated_size_bytes": 1952,
              "truncated_string_columns": []
            },
            "display_id": "67d4d8da-72b2-438e-a0c6-ca537d9b1936",
            "dx_settings": {
              "ALLOW_NOTEABLE_ATTRS": true,
              "COLUMN_SAMPLING_METHOD": "outer",
              "DB_LOCATION": ":memory:",
              "DEV_MODE": false,
              "DISPLAY_MAX_COLUMNS": 100,
              "DISPLAY_MAX_ROWS": 50000,
              "DISPLAY_MODE": "simple",
              "ENABLE_ASSIGNMENT": true,
              "ENABLE_DATALINK": true,
              "FLATTEN_COLUMN_VALUES": true,
              "FLATTEN_INDEX_VALUES": false,
              "GENERATE_DEX_METADATA": false,
              "HTML_TABLE_SCHEMA": false,
              "LOG_LEVEL": 30,
              "MAX_RENDER_SIZE_BYTES": 104857600,
              "MAX_STRING_LENGTH": 250,
              "NUM_PAST_SAMPLES_TRACKED": 3,
              "RANDOM_STATE": 12648430,
              "RESET_INDEX_VALUES": false,
              "ROW_SAMPLING_METHOD": "random",
              "SAMPLING_FACTOR": 0.1,
              "SAMPLING_METHOD": "random",
              "STRINGIFY_COLUMN_VALUES": true,
              "STRINGIFY_INDEX_VALUES": false
            },
            "sample_history": [],
            "sampling_time": "2023-09-01T23:57:18.764696",
            "user_variable_name": null,
            "variable_name": "unk_dataframe_e1e1ca7d62434b3eb63b22bc6ac01944"
          },
          "aded74af-d166-43b8-8cbf-e147990d2f3d": {
            "applied_filters": [],
            "dataframe_info": {
              "default_index_used": false,
              "orig_num_cols": 1,
              "orig_num_rows": 20,
              "orig_size_bytes": 320,
              "truncated_num_cols": 1,
              "truncated_num_rows": 20,
              "truncated_size_bytes": 320,
              "truncated_string_columns": []
            },
            "display_id": "aded74af-d166-43b8-8cbf-e147990d2f3d",
            "dx_settings": {
              "ALLOW_NOTEABLE_ATTRS": true,
              "COLUMN_SAMPLING_METHOD": "outer",
              "DB_LOCATION": ":memory:",
              "DEV_MODE": false,
              "DISPLAY_MAX_COLUMNS": 100,
              "DISPLAY_MAX_ROWS": 50000,
              "DISPLAY_MODE": "simple",
              "ENABLE_ASSIGNMENT": true,
              "ENABLE_DATALINK": true,
              "FLATTEN_COLUMN_VALUES": true,
              "FLATTEN_INDEX_VALUES": false,
              "GENERATE_DEX_METADATA": false,
              "HTML_TABLE_SCHEMA": false,
              "LOG_LEVEL": 30,
              "MAX_RENDER_SIZE_BYTES": 104857600,
              "MAX_STRING_LENGTH": 250,
              "NUM_PAST_SAMPLES_TRACKED": 3,
              "RANDOM_STATE": 12648430,
              "RESET_INDEX_VALUES": false,
              "ROW_SAMPLING_METHOD": "random",
              "SAMPLING_FACTOR": 0.1,
              "SAMPLING_METHOD": "random",
              "STRINGIFY_COLUMN_VALUES": true,
              "STRINGIFY_INDEX_VALUES": false
            },
            "sample_history": [],
            "sampling_time": "2023-09-02T00:00:09.681310",
            "user_variable_name": null,
            "variable_name": "unk_dataframe_f1efac7bb1a24f618c19f62497eb8f04"
          },
          "f1e67507-8dd5-46e7-a796-c4ab87d96a6c": {
            "applied_filters": [],
            "dataframe_info": {
              "default_index_used": false,
              "orig_num_cols": 1,
              "orig_num_rows": 20,
              "orig_size_bytes": 320,
              "truncated_num_cols": 1,
              "truncated_num_rows": 20,
              "truncated_size_bytes": 320,
              "truncated_string_columns": []
            },
            "display_id": "f1e67507-8dd5-46e7-a796-c4ab87d96a6c",
            "dx_settings": {
              "ALLOW_NOTEABLE_ATTRS": true,
              "COLUMN_SAMPLING_METHOD": "outer",
              "DB_LOCATION": ":memory:",
              "DEV_MODE": false,
              "DISPLAY_MAX_COLUMNS": 100,
              "DISPLAY_MAX_ROWS": 50000,
              "DISPLAY_MODE": "simple",
              "ENABLE_ASSIGNMENT": true,
              "ENABLE_DATALINK": true,
              "FLATTEN_COLUMN_VALUES": true,
              "FLATTEN_INDEX_VALUES": false,
              "GENERATE_DEX_METADATA": false,
              "HTML_TABLE_SCHEMA": false,
              "LOG_LEVEL": 30,
              "MAX_RENDER_SIZE_BYTES": 104857600,
              "MAX_STRING_LENGTH": 250,
              "NUM_PAST_SAMPLES_TRACKED": 3,
              "RANDOM_STATE": 12648430,
              "RESET_INDEX_VALUES": false,
              "ROW_SAMPLING_METHOD": "random",
              "SAMPLING_FACTOR": 0.1,
              "SAMPLING_METHOD": "random",
              "STRINGIFY_COLUMN_VALUES": true,
              "STRINGIFY_INDEX_VALUES": false
            },
            "sample_history": [],
            "sampling_time": "2023-09-04T19:15:51.039279",
            "user_variable_name": null,
            "variable_name": "unk_dataframe_646e4ca3aaec4d5795fd1a60abada699"
          }
        },
        "dx": {
          "fieldMetadata": {},
          "simpleTable": true,
          "simpleTableExpanded": true,
          "updated": 1693612793877,
          "views": []
        },
        "noteable": {
          "cell_type": "code"
        }
      },
      "outputs": [
        {
          "data": {
            "application/vnd.dataresource+json": {
              "data": [
                {
                  "0": 0.99,
                  "index": "y"
                },
                {
                  "0": 0.38,
                  "index": "Data Analysis"
                },
                {
                  "0": 0.33,
                  "index": "Data Science"
                },
                {
                  "0": 0.32,
                  "index": "Data Visualization"
                },
                {
                  "0": 0.31,
                  "index": "SQL"
                },
                {
                  "0": 0.31,
                  "index": "cat_Data Visualization"
                },
                {
                  "0": 0.3,
                  "index": "Statistics"
                },
                {
                  "0": 0.27,
                  "index": "R"
                },
                {
                  "0": 0.24,
                  "index": "Python"
                },
                {
                  "0": 0.23,
                  "index": "Data Modeling"
                },
                {
                  "0": 0.23,
                  "index": "Machine Learning"
                },
                {
                  "0": 0.23,
                  "index": "Database Architecture"
                },
                {
                  "0": 0.22,
                  "index": "cat_Data Analytics"
                },
                {
                  "0": 0.22,
                  "index": "Data Entry"
                },
                {
                  "0": 0.2,
                  "index": "ETL Pipeline"
                },
                {
                  "0": 0.2,
                  "index": "Data Migration"
                },
                {
                  "0": 0.19,
                  "index": "Market Research"
                },
                {
                  "0": 0.18,
                  "index": "Business Intelligence"
                },
                {
                  "0": 0.18,
                  "index": "cat_Full Stack Development"
                },
                {
                  "0": 0.18,
                  "index": "Microsoft Power BI"
                }
              ],
              "datalink": {
                "display_id": "f1e67507-8dd5-46e7-a796-c4ab87d96a6c"
              },
              "schema": {
                "fields": [
                  {
                    "name": "index",
                    "type": "string"
                  },
                  {
                    "name": "0",
                    "type": "number"
                  }
                ],
                "pandas_version": "1.4.0",
                "primaryKey": [
                  "index"
                ]
              }
            }
          },
          "metadata": {
            "application/vnd.dataresource+json": {
              "datalink": {
                "applied_filters": [],
                "dataframe_info": {
                  "default_index_used": false,
                  "orig_num_cols": 1,
                  "orig_num_rows": 20,
                  "orig_size_bytes": 320,
                  "truncated_num_cols": 1,
                  "truncated_num_rows": 20,
                  "truncated_size_bytes": 320,
                  "truncated_string_columns": []
                },
                "display_id": "f1e67507-8dd5-46e7-a796-c4ab87d96a6c",
                "dx_settings": {
                  "ALLOW_NOTEABLE_ATTRS": true,
                  "COLUMN_SAMPLING_METHOD": "outer",
                  "DB_LOCATION": ":memory:",
                  "DEV_MODE": false,
                  "DISPLAY_MAX_COLUMNS": 100,
                  "DISPLAY_MAX_ROWS": 50000,
                  "DISPLAY_MODE": "simple",
                  "ENABLE_ASSIGNMENT": true,
                  "ENABLE_DATALINK": true,
                  "FLATTEN_COLUMN_VALUES": true,
                  "FLATTEN_INDEX_VALUES": false,
                  "GENERATE_DEX_METADATA": false,
                  "HTML_TABLE_SCHEMA": false,
                  "LOG_LEVEL": 30,
                  "MAX_RENDER_SIZE_BYTES": 104857600,
                  "MAX_STRING_LENGTH": 250,
                  "NUM_PAST_SAMPLES_TRACKED": 3,
                  "RANDOM_STATE": 12648430,
                  "RESET_INDEX_VALUES": false,
                  "ROW_SAMPLING_METHOD": "random",
                  "SAMPLING_FACTOR": 0.1,
                  "SAMPLING_METHOD": "random",
                  "STRINGIFY_COLUMN_VALUES": true,
                  "STRINGIFY_INDEX_VALUES": false
                },
                "sample_history": [],
                "sampling_time": "2023-09-04T19:15:51.039279",
                "user_variable_name": null,
                "variable_name": "unk_dataframe_646e4ca3aaec4d5795fd1a60abada699"
              },
              "display_id": "f1e67507-8dd5-46e7-a796-c4ab87d96a6c"
            }
          },
          "output_type": "display_data"
        }
      ],
      "source": [
        "from scipy.stats import chi2_contingency\n",
        "import pandas as pd\n",
        "first_10_predictors = xy.columns\n",
        "phi_coefficients = {}\n",
        "for predictor in first_10_predictors:\n",
        "    contingency_table = pd.crosstab(xy['y'], xy[predictor])\n",
        "    chi2, _, _, _ = chi2_contingency(contingency_table)\n",
        "    n = contingency_table.sum().sum()\n",
        "    phi = (chi2 / n) ** 0.5\n",
        "    phi_coefficients[predictor] = phi\n",
        "pd.Series(phi_coefficients).sort_values(ascending=False).round(2).head(20)"
      ]
    },
    {
      "cell_type": "code",
      "execution_count": null,
      "id": "e17e2c90-7afc-49ac-8d95-31cff1b021b2",
      "metadata": {
        "ExecuteTime": {
          "end_time": "2023-09-04T19:16:31.295707+00:00",
          "start_time": "2023-09-04T19:16:28.211146+00:00"
        },
        "noteable": {
          "cell_type": "code"
        }
      },
      "outputs": [],
      "source": [
        "!pip install -q mlxtend"
      ]
    },
    {
      "cell_type": "code",
      "execution_count": null,
      "id": "651d2c13-90fd-4516-8729-806c70b6ffe2",
      "metadata": {
        "ExecuteTime": {
          "end_time": "2023-09-04T19:16:31.550374+00:00",
          "start_time": "2023-09-04T19:16:31.301506+00:00"
        },
        "datalink": {
          "651fb3be-9616-49f4-a3ec-141592d72aad": {
            "applied_filters": [],
            "dataframe_info": {
              "default_index_used": true,
              "orig_num_cols": 10,
              "orig_num_rows": 4,
              "orig_size_bytes": 352,
              "truncated_num_cols": 10,
              "truncated_num_rows": 4,
              "truncated_size_bytes": 352,
              "truncated_string_columns": []
            },
            "display_id": "651fb3be-9616-49f4-a3ec-141592d72aad",
            "dx_settings": {
              "ALLOW_NOTEABLE_ATTRS": true,
              "COLUMN_SAMPLING_METHOD": "outer",
              "DB_LOCATION": ":memory:",
              "DEV_MODE": false,
              "DISPLAY_MAX_COLUMNS": 100,
              "DISPLAY_MAX_ROWS": 50000,
              "DISPLAY_MODE": "simple",
              "ENABLE_ASSIGNMENT": true,
              "ENABLE_DATALINK": true,
              "FLATTEN_COLUMN_VALUES": true,
              "FLATTEN_INDEX_VALUES": false,
              "GENERATE_DEX_METADATA": false,
              "HTML_TABLE_SCHEMA": false,
              "LOG_LEVEL": 30,
              "MAX_RENDER_SIZE_BYTES": 104857600,
              "MAX_STRING_LENGTH": 250,
              "NUM_PAST_SAMPLES_TRACKED": 3,
              "RANDOM_STATE": 12648430,
              "RESET_INDEX_VALUES": false,
              "ROW_SAMPLING_METHOD": "random",
              "SAMPLING_FACTOR": 0.1,
              "SAMPLING_METHOD": "random",
              "STRINGIFY_COLUMN_VALUES": true,
              "STRINGIFY_INDEX_VALUES": false
            },
            "sample_history": [],
            "sampling_time": "2023-09-04T19:16:31.389189",
            "user_variable_name": null,
            "variable_name": "unk_dataframe_7b00abfcefa14f409b4977932b40614a"
          },
          "ff8f30d1-446c-4414-961b-2ee0101ba2d7": {
            "applied_filters": [],
            "dataframe_info": {
              "default_index_used": true,
              "orig_num_cols": 10,
              "orig_num_rows": 10,
              "orig_size_bytes": 880,
              "truncated_num_cols": 10,
              "truncated_num_rows": 10,
              "truncated_size_bytes": 880,
              "truncated_string_columns": []
            },
            "display_id": "ff8f30d1-446c-4414-961b-2ee0101ba2d7",
            "dx_settings": {
              "ALLOW_NOTEABLE_ATTRS": true,
              "COLUMN_SAMPLING_METHOD": "outer",
              "DB_LOCATION": ":memory:",
              "DEV_MODE": false,
              "DISPLAY_MAX_COLUMNS": 100,
              "DISPLAY_MAX_ROWS": 50000,
              "DISPLAY_MODE": "simple",
              "ENABLE_ASSIGNMENT": true,
              "ENABLE_DATALINK": true,
              "FLATTEN_COLUMN_VALUES": true,
              "FLATTEN_INDEX_VALUES": false,
              "GENERATE_DEX_METADATA": false,
              "HTML_TABLE_SCHEMA": false,
              "LOG_LEVEL": 30,
              "MAX_RENDER_SIZE_BYTES": 104857600,
              "MAX_STRING_LENGTH": 250,
              "NUM_PAST_SAMPLES_TRACKED": 3,
              "RANDOM_STATE": 12648430,
              "RESET_INDEX_VALUES": false,
              "ROW_SAMPLING_METHOD": "random",
              "SAMPLING_FACTOR": 0.1,
              "SAMPLING_METHOD": "random",
              "STRINGIFY_COLUMN_VALUES": true,
              "STRINGIFY_INDEX_VALUES": false
            },
            "sample_history": [],
            "sampling_time": "2023-09-02T00:01:31.949691",
            "user_variable_name": null,
            "variable_name": "unk_dataframe_8f5221590b9e4d2e9ecd9fc5abfb9925"
          }
        },
        "noteable": {
          "cell_type": "code"
        }
      },
      "outputs": [
        {
          "name": "stderr",
          "output_type": "stream",
          "text": [
            "/opt/conda/lib/python3.9/site-packages/mlxtend/frequent_patterns/fpcommon.py:110: DeprecationWarning: DataFrames with non-bool types result in worse computationalperformance and their support might be discontinued in the future.Please use a DataFrame with bool type\n",
            "  warnings.warn(\n"
          ]
        },
        {
          "data": {
            "application/vnd.dataresource+json": {
              "data": [
                {
                  "antecedent support": 0.14,
                  "antecedents": "frozenset({'Data Entry'})",
                  "confidence": 0.7142857142857143,
                  "consequent support": 0.36666666666666664,
                  "consequents": "frozenset({'Microsoft Excel'})",
                  "conviction": 2.216666666666667,
                  "index": 2,
                  "leverage": 0.04866666666666667,
                  "lift": 1.9480519480519483,
                  "support": 0.1,
                  "zhangs_metric": 0.5658914728682171
                },
                {
                  "antecedent support": 0.36666666666666664,
                  "antecedents": "frozenset({'Microsoft Excel'})",
                  "confidence": 0.27272727272727276,
                  "consequent support": 0.14,
                  "consequents": "frozenset({'Data Entry'})",
                  "conviction": 1.1824999999999999,
                  "index": 3,
                  "leverage": 0.04866666666666667,
                  "lift": 1.948051948051948,
                  "support": 0.1,
                  "zhangs_metric": 0.7684210526315789
                },
                {
                  "antecedent support": 0.62,
                  "antecedents": "frozenset({'y'})",
                  "confidence": 0.20430107526881722,
                  "consequent support": 0.14,
                  "consequents": "frozenset({'Data Entry'})",
                  "conviction": 1.0808108108108108,
                  "index": 0,
                  "leverage": 0.039866666666666675,
                  "lift": 1.4592933947772657,
                  "support": 0.12666666666666668,
                  "zhangs_metric": 0.8282548476454294
                },
                {
                  "antecedent support": 0.14,
                  "antecedents": "frozenset({'Data Entry'})",
                  "confidence": 0.9047619047619048,
                  "consequent support": 0.62,
                  "consequents": "frozenset({'y'})",
                  "conviction": 3.99,
                  "index": 1,
                  "leverage": 0.039866666666666675,
                  "lift": 1.4592933947772657,
                  "support": 0.12666666666666668,
                  "zhangs_metric": 0.36597307221542236
                }
              ],
              "datalink": {
                "display_id": "651fb3be-9616-49f4-a3ec-141592d72aad"
              },
              "schema": {
                "fields": [
                  {
                    "name": "index",
                    "type": "integer"
                  },
                  {
                    "name": "antecedents",
                    "type": "string"
                  },
                  {
                    "name": "consequents",
                    "type": "string"
                  },
                  {
                    "name": "antecedent support",
                    "type": "number"
                  },
                  {
                    "name": "consequent support",
                    "type": "number"
                  },
                  {
                    "name": "support",
                    "type": "number"
                  },
                  {
                    "name": "confidence",
                    "type": "number"
                  },
                  {
                    "name": "lift",
                    "type": "number"
                  },
                  {
                    "name": "leverage",
                    "type": "number"
                  },
                  {
                    "name": "conviction",
                    "type": "number"
                  },
                  {
                    "name": "zhangs_metric",
                    "type": "number"
                  }
                ],
                "pandas_version": "1.4.0",
                "primaryKey": [
                  "index"
                ]
              }
            }
          },
          "metadata": {
            "application/vnd.dataresource+json": {
              "datalink": {
                "applied_filters": [],
                "dataframe_info": {
                  "default_index_used": true,
                  "orig_num_cols": 10,
                  "orig_num_rows": 4,
                  "orig_size_bytes": 352,
                  "truncated_num_cols": 10,
                  "truncated_num_rows": 4,
                  "truncated_size_bytes": 352,
                  "truncated_string_columns": []
                },
                "display_id": "651fb3be-9616-49f4-a3ec-141592d72aad",
                "dx_settings": {
                  "ALLOW_NOTEABLE_ATTRS": true,
                  "COLUMN_SAMPLING_METHOD": "outer",
                  "DB_LOCATION": ":memory:",
                  "DEV_MODE": false,
                  "DISPLAY_MAX_COLUMNS": 100,
                  "DISPLAY_MAX_ROWS": 50000,
                  "DISPLAY_MODE": "simple",
                  "ENABLE_ASSIGNMENT": true,
                  "ENABLE_DATALINK": true,
                  "FLATTEN_COLUMN_VALUES": true,
                  "FLATTEN_INDEX_VALUES": false,
                  "GENERATE_DEX_METADATA": false,
                  "HTML_TABLE_SCHEMA": false,
                  "LOG_LEVEL": 30,
                  "MAX_RENDER_SIZE_BYTES": 104857600,
                  "MAX_STRING_LENGTH": 250,
                  "NUM_PAST_SAMPLES_TRACKED": 3,
                  "RANDOM_STATE": 12648430,
                  "RESET_INDEX_VALUES": false,
                  "ROW_SAMPLING_METHOD": "random",
                  "SAMPLING_FACTOR": 0.1,
                  "SAMPLING_METHOD": "random",
                  "STRINGIFY_COLUMN_VALUES": true,
                  "STRINGIFY_INDEX_VALUES": false
                },
                "sample_history": [],
                "sampling_time": "2023-09-04T19:16:31.389189",
                "user_variable_name": null,
                "variable_name": "unk_dataframe_7b00abfcefa14f409b4977932b40614a"
              },
              "display_id": "651fb3be-9616-49f4-a3ec-141592d72aad"
            }
          },
          "output_type": "display_data"
        }
      ],
      "source": [
        "from mlxtend.frequent_patterns import apriori, association_rules\n",
        "frequent_itemsets = apriori(xy, min_support=0.1, use_colnames=True)\n",
        "rules = association_rules(frequent_itemsets, metric='lift', min_threshold=1)\n",
        "rules.sort_values('lift', ascending=False).head(10)"
      ]
    },
    {
      "cell_type": "code",
      "execution_count": null,
      "id": "1af56d10-7e8e-400f-8e5c-95c0e9d920ee",
      "metadata": {
        "ExecuteTime": {
          "end_time": "2023-09-04T19:38:03.558627+00:00",
          "start_time": "2023-09-04T19:38:02.876062+00:00"
        },
        "noteable": {
          "cell_type": "code"
        }
      },
      "outputs": [
        {
          "data": {
            "image/png": "[encoded data removed]"
          },
          "metadata": {},
          "output_type": "display_data"
        }
      ],
      "source": [
        "from sklearn.tree import DecisionTreeClassifier, export_text, plot_tree\n",
        "import matplotlib.pyplot as plt\n",
        "X = xy.drop(columns=['y', 'Data Analysis', 'cat_Data Visualization', 'Airtable', 'SQL', 'cat_Data Engineering'])\n",
        "y = xy['y']\n",
        "clf = DecisionTreeClassifier(max_depth=4, random_state=0, min_samples_leaf=5)\n",
        "clf.fit(X, y)\n",
        "r = export_text(clf, feature_names=list(X.columns))\n",
        "\n",
        "plt.figure(figsize=(12, 8))\n",
        "plot_tree(clf, filled=True, feature_names=list(X.columns), class_names=['0', '1'])\n",
        "plt.show()"
      ]
    },
    {
      "cell_type": "code",
      "execution_count": null,
      "id": "9cf86b68-3922-4637-86a9-ebc382f77e9d",
      "metadata": {
        "ExecuteTime": {
          "end_time": "2023-09-04T20:22:52.688717+00:00",
          "start_time": "2023-09-04T20:22:52.425311+00:00"
        },
        "datalink": {
          "02714591-ac96-4fe1-ae32-aae70d6f12af": {
            "applied_filters": [],
            "dataframe_info": {
              "default_index_used": false,
              "orig_num_cols": 3,
              "orig_num_rows": 122,
              "orig_size_bytes": 3904,
              "truncated_num_cols": 3,
              "truncated_num_rows": 122,
              "truncated_size_bytes": 3904,
              "truncated_string_columns": []
            },
            "display_id": "02714591-ac96-4fe1-ae32-aae70d6f12af",
            "dx_settings": {
              "ALLOW_NOTEABLE_ATTRS": true,
              "COLUMN_SAMPLING_METHOD": "outer",
              "DB_LOCATION": ":memory:",
              "DEV_MODE": false,
              "DISPLAY_MAX_COLUMNS": 100,
              "DISPLAY_MAX_ROWS": 50000,
              "DISPLAY_MODE": "simple",
              "ENABLE_ASSIGNMENT": true,
              "ENABLE_DATALINK": true,
              "FLATTEN_COLUMN_VALUES": true,
              "FLATTEN_INDEX_VALUES": false,
              "GENERATE_DEX_METADATA": false,
              "HTML_TABLE_SCHEMA": false,
              "LOG_LEVEL": 30,
              "MAX_RENDER_SIZE_BYTES": 104857600,
              "MAX_STRING_LENGTH": 250,
              "NUM_PAST_SAMPLES_TRACKED": 3,
              "RANDOM_STATE": 12648430,
              "RESET_INDEX_VALUES": false,
              "ROW_SAMPLING_METHOD": "random",
              "SAMPLING_FACTOR": 0.1,
              "SAMPLING_METHOD": "random",
              "STRINGIFY_COLUMN_VALUES": true,
              "STRINGIFY_INDEX_VALUES": false
            },
            "sample_history": [],
            "sampling_time": "2023-09-04T19:59:35.922523",
            "user_variable_name": null,
            "variable_name": "unk_dataframe_e4a6bbc5d9904b7a87151f4408ac47a2"
          },
          "0aecad98-a69b-498f-9b66-43f082a72790": {
            "applied_filters": [],
            "dataframe_info": {
              "default_index_used": false,
              "orig_num_cols": 2,
              "orig_num_rows": 122,
              "orig_size_bytes": 2928,
              "truncated_num_cols": 2,
              "truncated_num_rows": 122,
              "truncated_size_bytes": 2928,
              "truncated_string_columns": []
            },
            "display_id": "0aecad98-a69b-498f-9b66-43f082a72790",
            "dx_settings": {
              "ALLOW_NOTEABLE_ATTRS": true,
              "COLUMN_SAMPLING_METHOD": "outer",
              "DB_LOCATION": ":memory:",
              "DEV_MODE": false,
              "DISPLAY_MAX_COLUMNS": 100,
              "DISPLAY_MAX_ROWS": 50000,
              "DISPLAY_MODE": "simple",
              "ENABLE_ASSIGNMENT": true,
              "ENABLE_DATALINK": true,
              "FLATTEN_COLUMN_VALUES": true,
              "FLATTEN_INDEX_VALUES": false,
              "GENERATE_DEX_METADATA": false,
              "HTML_TABLE_SCHEMA": false,
              "LOG_LEVEL": 30,
              "MAX_RENDER_SIZE_BYTES": 104857600,
              "MAX_STRING_LENGTH": 250,
              "NUM_PAST_SAMPLES_TRACKED": 3,
              "RANDOM_STATE": 12648430,
              "RESET_INDEX_VALUES": false,
              "ROW_SAMPLING_METHOD": "random",
              "SAMPLING_FACTOR": 0.1,
              "SAMPLING_METHOD": "random",
              "STRINGIFY_COLUMN_VALUES": true,
              "STRINGIFY_INDEX_VALUES": false
            },
            "sample_history": [],
            "sampling_time": "2023-09-04T19:48:01.552831",
            "user_variable_name": null,
            "variable_name": "unk_dataframe_6e6c05f584ad4732aa8f512b9eb9f3af"
          },
          "13ee7f60-63c6-473f-834d-a41455dd8b01": {
            "applied_filters": [],
            "dataframe_info": {
              "default_index_used": false,
              "orig_num_cols": 3,
              "orig_num_rows": 122,
              "orig_size_bytes": 3904,
              "truncated_num_cols": 3,
              "truncated_num_rows": 122,
              "truncated_size_bytes": 3904,
              "truncated_string_columns": []
            },
            "display_id": "13ee7f60-63c6-473f-834d-a41455dd8b01",
            "dx_settings": {
              "ALLOW_NOTEABLE_ATTRS": true,
              "COLUMN_SAMPLING_METHOD": "outer",
              "DB_LOCATION": ":memory:",
              "DEV_MODE": false,
              "DISPLAY_MAX_COLUMNS": 100,
              "DISPLAY_MAX_ROWS": 50000,
              "DISPLAY_MODE": "simple",
              "ENABLE_ASSIGNMENT": true,
              "ENABLE_DATALINK": true,
              "FLATTEN_COLUMN_VALUES": true,
              "FLATTEN_INDEX_VALUES": false,
              "GENERATE_DEX_METADATA": false,
              "HTML_TABLE_SCHEMA": false,
              "LOG_LEVEL": 30,
              "MAX_RENDER_SIZE_BYTES": 104857600,
              "MAX_STRING_LENGTH": 250,
              "NUM_PAST_SAMPLES_TRACKED": 3,
              "RANDOM_STATE": 12648430,
              "RESET_INDEX_VALUES": false,
              "ROW_SAMPLING_METHOD": "random",
              "SAMPLING_FACTOR": 0.1,
              "SAMPLING_METHOD": "random",
              "STRINGIFY_COLUMN_VALUES": true,
              "STRINGIFY_INDEX_VALUES": false
            },
            "sample_history": [],
            "sampling_time": "2023-09-04T20:06:07.476599",
            "user_variable_name": null,
            "variable_name": "unk_dataframe_4d0449ede9c642b4b36fbe22523d12ab"
          },
          "1ae44f9b-43f8-4785-9b44-c07c4f8bc24b": {
            "applied_filters": [],
            "dataframe_info": {
              "default_index_used": false,
              "orig_num_cols": 3,
              "orig_num_rows": 122,
              "orig_size_bytes": 3904,
              "truncated_num_cols": 3,
              "truncated_num_rows": 122,
              "truncated_size_bytes": 3904,
              "truncated_string_columns": []
            },
            "display_id": "1ae44f9b-43f8-4785-9b44-c07c4f8bc24b",
            "dx_settings": {
              "ALLOW_NOTEABLE_ATTRS": true,
              "COLUMN_SAMPLING_METHOD": "outer",
              "DB_LOCATION": ":memory:",
              "DEV_MODE": false,
              "DISPLAY_MAX_COLUMNS": 100,
              "DISPLAY_MAX_ROWS": 50000,
              "DISPLAY_MODE": "simple",
              "ENABLE_ASSIGNMENT": true,
              "ENABLE_DATALINK": true,
              "FLATTEN_COLUMN_VALUES": true,
              "FLATTEN_INDEX_VALUES": false,
              "GENERATE_DEX_METADATA": false,
              "HTML_TABLE_SCHEMA": false,
              "LOG_LEVEL": 30,
              "MAX_RENDER_SIZE_BYTES": 104857600,
              "MAX_STRING_LENGTH": 250,
              "NUM_PAST_SAMPLES_TRACKED": 3,
              "RANDOM_STATE": 12648430,
              "RESET_INDEX_VALUES": false,
              "ROW_SAMPLING_METHOD": "random",
              "SAMPLING_FACTOR": 0.1,
              "SAMPLING_METHOD": "random",
              "STRINGIFY_COLUMN_VALUES": true,
              "STRINGIFY_INDEX_VALUES": false
            },
            "sample_history": [],
            "sampling_time": "2023-09-04T20:17:32.278188",
            "user_variable_name": null,
            "variable_name": "unk_dataframe_153dd2f798b24dc7bbff7b4733604159"
          },
          "1d69331e-2705-481d-87c3-734d7d3bc1f6": {
            "applied_filters": [],
            "dataframe_info": {
              "default_index_used": false,
              "orig_num_cols": 1,
              "orig_num_rows": 122,
              "orig_size_bytes": 1952,
              "truncated_num_cols": 1,
              "truncated_num_rows": 122,
              "truncated_size_bytes": 1952,
              "truncated_string_columns": []
            },
            "display_id": "1d69331e-2705-481d-87c3-734d7d3bc1f6",
            "dx_settings": {
              "ALLOW_NOTEABLE_ATTRS": true,
              "COLUMN_SAMPLING_METHOD": "outer",
              "DB_LOCATION": ":memory:",
              "DEV_MODE": false,
              "DISPLAY_MAX_COLUMNS": 100,
              "DISPLAY_MAX_ROWS": 50000,
              "DISPLAY_MODE": "simple",
              "ENABLE_ASSIGNMENT": true,
              "ENABLE_DATALINK": true,
              "FLATTEN_COLUMN_VALUES": true,
              "FLATTEN_INDEX_VALUES": false,
              "GENERATE_DEX_METADATA": false,
              "HTML_TABLE_SCHEMA": false,
              "LOG_LEVEL": 30,
              "MAX_RENDER_SIZE_BYTES": 104857600,
              "MAX_STRING_LENGTH": 250,
              "NUM_PAST_SAMPLES_TRACKED": 3,
              "RANDOM_STATE": 12648430,
              "RESET_INDEX_VALUES": false,
              "ROW_SAMPLING_METHOD": "random",
              "SAMPLING_FACTOR": 0.1,
              "SAMPLING_METHOD": "random",
              "STRINGIFY_COLUMN_VALUES": true,
              "STRINGIFY_INDEX_VALUES": false
            },
            "sample_history": [],
            "sampling_time": "2023-09-04T19:46:07.729606",
            "user_variable_name": null,
            "variable_name": "unk_dataframe_412e48dc00da4524a49ac30210410304"
          },
          "2386e6f4-57cf-4563-a088-f12fa694bb64": {
            "applied_filters": [],
            "dataframe_info": {
              "default_index_used": false,
              "orig_num_cols": 3,
              "orig_num_rows": 122,
              "orig_size_bytes": 3904,
              "truncated_num_cols": 3,
              "truncated_num_rows": 122,
              "truncated_size_bytes": 3904,
              "truncated_string_columns": []
            },
            "display_id": "2386e6f4-57cf-4563-a088-f12fa694bb64",
            "dx_settings": {
              "ALLOW_NOTEABLE_ATTRS": true,
              "COLUMN_SAMPLING_METHOD": "outer",
              "DB_LOCATION": ":memory:",
              "DEV_MODE": false,
              "DISPLAY_MAX_COLUMNS": 100,
              "DISPLAY_MAX_ROWS": 50000,
              "DISPLAY_MODE": "simple",
              "ENABLE_ASSIGNMENT": true,
              "ENABLE_DATALINK": true,
              "FLATTEN_COLUMN_VALUES": true,
              "FLATTEN_INDEX_VALUES": false,
              "GENERATE_DEX_METADATA": false,
              "HTML_TABLE_SCHEMA": false,
              "LOG_LEVEL": 30,
              "MAX_RENDER_SIZE_BYTES": 104857600,
              "MAX_STRING_LENGTH": 250,
              "NUM_PAST_SAMPLES_TRACKED": 3,
              "RANDOM_STATE": 12648430,
              "RESET_INDEX_VALUES": false,
              "ROW_SAMPLING_METHOD": "random",
              "SAMPLING_FACTOR": 0.1,
              "SAMPLING_METHOD": "random",
              "STRINGIFY_COLUMN_VALUES": true,
              "STRINGIFY_INDEX_VALUES": false
            },
            "sample_history": [],
            "sampling_time": "2023-09-04T19:52:50.285263",
            "user_variable_name": null,
            "variable_name": "unk_dataframe_9d0da71cde784428b8d75d30932ef692"
          },
          "296e77bd-22a6-4f09-bce1-6e98c01a63a0": {
            "applied_filters": [],
            "dataframe_info": {
              "default_index_used": false,
              "orig_num_cols": 1,
              "orig_num_rows": 122,
              "orig_size_bytes": 1952,
              "truncated_num_cols": 1,
              "truncated_num_rows": 122,
              "truncated_size_bytes": 1952,
              "truncated_string_columns": []
            },
            "display_id": "296e77bd-22a6-4f09-bce1-6e98c01a63a0",
            "dx_settings": {
              "ALLOW_NOTEABLE_ATTRS": true,
              "COLUMN_SAMPLING_METHOD": "outer",
              "DB_LOCATION": ":memory:",
              "DEV_MODE": false,
              "DISPLAY_MAX_COLUMNS": 100,
              "DISPLAY_MAX_ROWS": 50000,
              "DISPLAY_MODE": "simple",
              "ENABLE_ASSIGNMENT": true,
              "ENABLE_DATALINK": true,
              "FLATTEN_COLUMN_VALUES": true,
              "FLATTEN_INDEX_VALUES": false,
              "GENERATE_DEX_METADATA": false,
              "HTML_TABLE_SCHEMA": false,
              "LOG_LEVEL": 30,
              "MAX_RENDER_SIZE_BYTES": 104857600,
              "MAX_STRING_LENGTH": 250,
              "NUM_PAST_SAMPLES_TRACKED": 3,
              "RANDOM_STATE": 12648430,
              "RESET_INDEX_VALUES": false,
              "ROW_SAMPLING_METHOD": "random",
              "SAMPLING_FACTOR": 0.1,
              "SAMPLING_METHOD": "random",
              "STRINGIFY_COLUMN_VALUES": true,
              "STRINGIFY_INDEX_VALUES": false
            },
            "sample_history": [],
            "sampling_time": "2023-09-04T19:46:35.307901",
            "user_variable_name": null,
            "variable_name": "unk_dataframe_1bfac7ef18d948cba386ef6531db0f8e"
          },
          "34852d1e-8650-4120-8426-32724a881b6a": {
            "applied_filters": [],
            "dataframe_info": {
              "default_index_used": false,
              "orig_num_cols": 1,
              "orig_num_rows": 122,
              "orig_size_bytes": 1952,
              "truncated_num_cols": 1,
              "truncated_num_rows": 122,
              "truncated_size_bytes": 1952,
              "truncated_string_columns": []
            },
            "display_id": "34852d1e-8650-4120-8426-32724a881b6a",
            "dx_settings": {
              "ALLOW_NOTEABLE_ATTRS": true,
              "COLUMN_SAMPLING_METHOD": "outer",
              "DB_LOCATION": ":memory:",
              "DEV_MODE": false,
              "DISPLAY_MAX_COLUMNS": 100,
              "DISPLAY_MAX_ROWS": 50000,
              "DISPLAY_MODE": "simple",
              "ENABLE_ASSIGNMENT": true,
              "ENABLE_DATALINK": true,
              "FLATTEN_COLUMN_VALUES": true,
              "FLATTEN_INDEX_VALUES": false,
              "GENERATE_DEX_METADATA": false,
              "HTML_TABLE_SCHEMA": false,
              "LOG_LEVEL": 30,
              "MAX_RENDER_SIZE_BYTES": 104857600,
              "MAX_STRING_LENGTH": 250,
              "NUM_PAST_SAMPLES_TRACKED": 3,
              "RANDOM_STATE": 12648430,
              "RESET_INDEX_VALUES": false,
              "ROW_SAMPLING_METHOD": "random",
              "SAMPLING_FACTOR": 0.1,
              "SAMPLING_METHOD": "random",
              "STRINGIFY_COLUMN_VALUES": true,
              "STRINGIFY_INDEX_VALUES": false
            },
            "sample_history": [],
            "sampling_time": "2023-09-04T19:51:13.074137",
            "user_variable_name": null,
            "variable_name": "unk_dataframe_722adcf3096f47e9a5a6cfbfb85058c7"
          },
          "34c9bcc4-649b-4208-b761-a171449f640d": {
            "applied_filters": [],
            "dataframe_info": {
              "default_index_used": false,
              "orig_num_cols": 3,
              "orig_num_rows": 122,
              "orig_size_bytes": 3904,
              "truncated_num_cols": 3,
              "truncated_num_rows": 122,
              "truncated_size_bytes": 3904,
              "truncated_string_columns": []
            },
            "display_id": "34c9bcc4-649b-4208-b761-a171449f640d",
            "dx_settings": {
              "ALLOW_NOTEABLE_ATTRS": true,
              "COLUMN_SAMPLING_METHOD": "outer",
              "DB_LOCATION": ":memory:",
              "DEV_MODE": false,
              "DISPLAY_MAX_COLUMNS": 100,
              "DISPLAY_MAX_ROWS": 50000,
              "DISPLAY_MODE": "simple",
              "ENABLE_ASSIGNMENT": true,
              "ENABLE_DATALINK": true,
              "FLATTEN_COLUMN_VALUES": true,
              "FLATTEN_INDEX_VALUES": false,
              "GENERATE_DEX_METADATA": false,
              "HTML_TABLE_SCHEMA": false,
              "LOG_LEVEL": 30,
              "MAX_RENDER_SIZE_BYTES": 104857600,
              "MAX_STRING_LENGTH": 250,
              "NUM_PAST_SAMPLES_TRACKED": 3,
              "RANDOM_STATE": 12648430,
              "RESET_INDEX_VALUES": false,
              "ROW_SAMPLING_METHOD": "random",
              "SAMPLING_FACTOR": 0.1,
              "SAMPLING_METHOD": "random",
              "STRINGIFY_COLUMN_VALUES": true,
              "STRINGIFY_INDEX_VALUES": false
            },
            "sample_history": [],
            "sampling_time": "2023-09-04T20:16:49.323167",
            "user_variable_name": null,
            "variable_name": "unk_dataframe_de86101341cc434bb07cfb610b03f722"
          },
          "36033f72-a009-43b2-9829-12938be9ab24": {
            "applied_filters": [],
            "dataframe_info": {
              "default_index_used": false,
              "orig_num_cols": 3,
              "orig_num_rows": 122,
              "orig_size_bytes": 3904,
              "truncated_num_cols": 3,
              "truncated_num_rows": 122,
              "truncated_size_bytes": 3904,
              "truncated_string_columns": []
            },
            "display_id": "36033f72-a009-43b2-9829-12938be9ab24",
            "dx_settings": {
              "ALLOW_NOTEABLE_ATTRS": true,
              "COLUMN_SAMPLING_METHOD": "outer",
              "DB_LOCATION": ":memory:",
              "DEV_MODE": false,
              "DISPLAY_MAX_COLUMNS": 100,
              "DISPLAY_MAX_ROWS": 50000,
              "DISPLAY_MODE": "simple",
              "ENABLE_ASSIGNMENT": true,
              "ENABLE_DATALINK": true,
              "FLATTEN_COLUMN_VALUES": true,
              "FLATTEN_INDEX_VALUES": false,
              "GENERATE_DEX_METADATA": false,
              "HTML_TABLE_SCHEMA": false,
              "LOG_LEVEL": 30,
              "MAX_RENDER_SIZE_BYTES": 104857600,
              "MAX_STRING_LENGTH": 250,
              "NUM_PAST_SAMPLES_TRACKED": 3,
              "RANDOM_STATE": 12648430,
              "RESET_INDEX_VALUES": false,
              "ROW_SAMPLING_METHOD": "random",
              "SAMPLING_FACTOR": 0.1,
              "SAMPLING_METHOD": "random",
              "STRINGIFY_COLUMN_VALUES": true,
              "STRINGIFY_INDEX_VALUES": false
            },
            "sample_history": [],
            "sampling_time": "2023-09-04T20:15:43.488223",
            "user_variable_name": null,
            "variable_name": "unk_dataframe_6729124cb1894e4b9b128d3641bcfbfa"
          },
          "3700a69f-9d85-4069-a27d-c09e693f79ab": {
            "applied_filters": [],
            "dataframe_info": {
              "default_index_used": false,
              "orig_num_cols": 3,
              "orig_num_rows": 122,
              "orig_size_bytes": 3904,
              "truncated_num_cols": 3,
              "truncated_num_rows": 122,
              "truncated_size_bytes": 3904,
              "truncated_string_columns": []
            },
            "display_id": "3700a69f-9d85-4069-a27d-c09e693f79ab",
            "dx_settings": {
              "ALLOW_NOTEABLE_ATTRS": true,
              "COLUMN_SAMPLING_METHOD": "outer",
              "DB_LOCATION": ":memory:",
              "DEV_MODE": false,
              "DISPLAY_MAX_COLUMNS": 100,
              "DISPLAY_MAX_ROWS": 50000,
              "DISPLAY_MODE": "simple",
              "ENABLE_ASSIGNMENT": true,
              "ENABLE_DATALINK": true,
              "FLATTEN_COLUMN_VALUES": true,
              "FLATTEN_INDEX_VALUES": false,
              "GENERATE_DEX_METADATA": false,
              "HTML_TABLE_SCHEMA": false,
              "LOG_LEVEL": 30,
              "MAX_RENDER_SIZE_BYTES": 104857600,
              "MAX_STRING_LENGTH": 250,
              "NUM_PAST_SAMPLES_TRACKED": 3,
              "RANDOM_STATE": 12648430,
              "RESET_INDEX_VALUES": false,
              "ROW_SAMPLING_METHOD": "random",
              "SAMPLING_FACTOR": 0.1,
              "SAMPLING_METHOD": "random",
              "STRINGIFY_COLUMN_VALUES": true,
              "STRINGIFY_INDEX_VALUES": false
            },
            "sample_history": [],
            "sampling_time": "2023-09-04T20:20:57.301889",
            "user_variable_name": null,
            "variable_name": "unk_dataframe_fb12fa4243194eff825c87c06a6cbbf5"
          },
          "4997e715-3a41-4801-bf9b-9a72858bd7f0": {
            "applied_filters": [],
            "dataframe_info": {
              "default_index_used": false,
              "orig_num_cols": 3,
              "orig_num_rows": 122,
              "orig_size_bytes": 3904,
              "truncated_num_cols": 3,
              "truncated_num_rows": 122,
              "truncated_size_bytes": 3904,
              "truncated_string_columns": []
            },
            "display_id": "4997e715-3a41-4801-bf9b-9a72858bd7f0",
            "dx_settings": {
              "ALLOW_NOTEABLE_ATTRS": true,
              "COLUMN_SAMPLING_METHOD": "outer",
              "DB_LOCATION": ":memory:",
              "DEV_MODE": false,
              "DISPLAY_MAX_COLUMNS": 100,
              "DISPLAY_MAX_ROWS": 50000,
              "DISPLAY_MODE": "simple",
              "ENABLE_ASSIGNMENT": true,
              "ENABLE_DATALINK": true,
              "FLATTEN_COLUMN_VALUES": true,
              "FLATTEN_INDEX_VALUES": false,
              "GENERATE_DEX_METADATA": false,
              "HTML_TABLE_SCHEMA": false,
              "LOG_LEVEL": 30,
              "MAX_RENDER_SIZE_BYTES": 104857600,
              "MAX_STRING_LENGTH": 250,
              "NUM_PAST_SAMPLES_TRACKED": 3,
              "RANDOM_STATE": 12648430,
              "RESET_INDEX_VALUES": false,
              "ROW_SAMPLING_METHOD": "random",
              "SAMPLING_FACTOR": 0.1,
              "SAMPLING_METHOD": "random",
              "STRINGIFY_COLUMN_VALUES": true,
              "STRINGIFY_INDEX_VALUES": false
            },
            "sample_history": [],
            "sampling_time": "2023-09-04T19:51:43.576374",
            "user_variable_name": null,
            "variable_name": "unk_dataframe_a222a05266c84dbf8f0800de13df068c"
          },
          "4de5906d-2c96-4c0f-8983-43d6020114fd": {
            "applied_filters": [],
            "dataframe_info": {
              "default_index_used": false,
              "orig_num_cols": 3,
              "orig_num_rows": 122,
              "orig_size_bytes": 3904,
              "truncated_num_cols": 3,
              "truncated_num_rows": 122,
              "truncated_size_bytes": 3904,
              "truncated_string_columns": []
            },
            "display_id": "4de5906d-2c96-4c0f-8983-43d6020114fd",
            "dx_settings": {
              "ALLOW_NOTEABLE_ATTRS": true,
              "COLUMN_SAMPLING_METHOD": "outer",
              "DB_LOCATION": ":memory:",
              "DEV_MODE": false,
              "DISPLAY_MAX_COLUMNS": 100,
              "DISPLAY_MAX_ROWS": 50000,
              "DISPLAY_MODE": "simple",
              "ENABLE_ASSIGNMENT": true,
              "ENABLE_DATALINK": true,
              "FLATTEN_COLUMN_VALUES": true,
              "FLATTEN_INDEX_VALUES": false,
              "GENERATE_DEX_METADATA": false,
              "HTML_TABLE_SCHEMA": false,
              "LOG_LEVEL": 30,
              "MAX_RENDER_SIZE_BYTES": 104857600,
              "MAX_STRING_LENGTH": 250,
              "NUM_PAST_SAMPLES_TRACKED": 3,
              "RANDOM_STATE": 12648430,
              "RESET_INDEX_VALUES": false,
              "ROW_SAMPLING_METHOD": "random",
              "SAMPLING_FACTOR": 0.1,
              "SAMPLING_METHOD": "random",
              "STRINGIFY_COLUMN_VALUES": true,
              "STRINGIFY_INDEX_VALUES": false
            },
            "sample_history": [],
            "sampling_time": "2023-09-04T20:13:13.088481",
            "user_variable_name": null,
            "variable_name": "unk_dataframe_93a23ddd28814d1e98139e36c440cf2c"
          },
          "5c3c39b3-c21c-4028-8375-25c6c43dcdf9": {
            "applied_filters": [],
            "dataframe_info": {
              "default_index_used": false,
              "orig_num_cols": 3,
              "orig_num_rows": 122,
              "orig_size_bytes": 3904,
              "truncated_num_cols": 3,
              "truncated_num_rows": 122,
              "truncated_size_bytes": 3904,
              "truncated_string_columns": []
            },
            "display_id": "5c3c39b3-c21c-4028-8375-25c6c43dcdf9",
            "dx_settings": {
              "ALLOW_NOTEABLE_ATTRS": true,
              "COLUMN_SAMPLING_METHOD": "outer",
              "DB_LOCATION": ":memory:",
              "DEV_MODE": false,
              "DISPLAY_MAX_COLUMNS": 100,
              "DISPLAY_MAX_ROWS": 50000,
              "DISPLAY_MODE": "simple",
              "ENABLE_ASSIGNMENT": true,
              "ENABLE_DATALINK": true,
              "FLATTEN_COLUMN_VALUES": true,
              "FLATTEN_INDEX_VALUES": false,
              "GENERATE_DEX_METADATA": false,
              "HTML_TABLE_SCHEMA": false,
              "LOG_LEVEL": 30,
              "MAX_RENDER_SIZE_BYTES": 104857600,
              "MAX_STRING_LENGTH": 250,
              "NUM_PAST_SAMPLES_TRACKED": 3,
              "RANDOM_STATE": 12648430,
              "RESET_INDEX_VALUES": false,
              "ROW_SAMPLING_METHOD": "random",
              "SAMPLING_FACTOR": 0.1,
              "SAMPLING_METHOD": "random",
              "STRINGIFY_COLUMN_VALUES": true,
              "STRINGIFY_INDEX_VALUES": false
            },
            "sample_history": [],
            "sampling_time": "2023-09-04T20:13:38.946195",
            "user_variable_name": null,
            "variable_name": "unk_dataframe_ce54c252643f4e2781385b4fcbb5cc7f"
          },
          "60906cbf-bdfe-46f2-9b9d-0ae7af905343": {
            "applied_filters": [],
            "dataframe_info": {
              "default_index_used": false,
              "orig_num_cols": 3,
              "orig_num_rows": 122,
              "orig_size_bytes": 3904,
              "truncated_num_cols": 3,
              "truncated_num_rows": 122,
              "truncated_size_bytes": 3904,
              "truncated_string_columns": []
            },
            "display_id": "60906cbf-bdfe-46f2-9b9d-0ae7af905343",
            "dx_settings": {
              "ALLOW_NOTEABLE_ATTRS": true,
              "COLUMN_SAMPLING_METHOD": "outer",
              "DB_LOCATION": ":memory:",
              "DEV_MODE": false,
              "DISPLAY_MAX_COLUMNS": 100,
              "DISPLAY_MAX_ROWS": 50000,
              "DISPLAY_MODE": "simple",
              "ENABLE_ASSIGNMENT": true,
              "ENABLE_DATALINK": true,
              "FLATTEN_COLUMN_VALUES": true,
              "FLATTEN_INDEX_VALUES": false,
              "GENERATE_DEX_METADATA": false,
              "HTML_TABLE_SCHEMA": false,
              "LOG_LEVEL": 30,
              "MAX_RENDER_SIZE_BYTES": 104857600,
              "MAX_STRING_LENGTH": 250,
              "NUM_PAST_SAMPLES_TRACKED": 3,
              "RANDOM_STATE": 12648430,
              "RESET_INDEX_VALUES": false,
              "ROW_SAMPLING_METHOD": "random",
              "SAMPLING_FACTOR": 0.1,
              "SAMPLING_METHOD": "random",
              "STRINGIFY_COLUMN_VALUES": true,
              "STRINGIFY_INDEX_VALUES": false
            },
            "sample_history": [],
            "sampling_time": "2023-09-04T20:16:26.345496",
            "user_variable_name": null,
            "variable_name": "unk_dataframe_bc9587c345b546c9a0ab34262a5f64ef"
          },
          "70fad135-e96f-4262-a374-65ac54974ddf": {
            "applied_filters": [],
            "dataframe_info": {
              "default_index_used": false,
              "orig_num_cols": 3,
              "orig_num_rows": 122,
              "orig_size_bytes": 3904,
              "truncated_num_cols": 3,
              "truncated_num_rows": 122,
              "truncated_size_bytes": 3904,
              "truncated_string_columns": []
            },
            "display_id": "70fad135-e96f-4262-a374-65ac54974ddf",
            "dx_settings": {
              "ALLOW_NOTEABLE_ATTRS": true,
              "COLUMN_SAMPLING_METHOD": "outer",
              "DB_LOCATION": ":memory:",
              "DEV_MODE": false,
              "DISPLAY_MAX_COLUMNS": 100,
              "DISPLAY_MAX_ROWS": 50000,
              "DISPLAY_MODE": "simple",
              "ENABLE_ASSIGNMENT": true,
              "ENABLE_DATALINK": true,
              "FLATTEN_COLUMN_VALUES": true,
              "FLATTEN_INDEX_VALUES": false,
              "GENERATE_DEX_METADATA": false,
              "HTML_TABLE_SCHEMA": false,
              "LOG_LEVEL": 30,
              "MAX_RENDER_SIZE_BYTES": 104857600,
              "MAX_STRING_LENGTH": 250,
              "NUM_PAST_SAMPLES_TRACKED": 3,
              "RANDOM_STATE": 12648430,
              "RESET_INDEX_VALUES": false,
              "ROW_SAMPLING_METHOD": "random",
              "SAMPLING_FACTOR": 0.1,
              "SAMPLING_METHOD": "random",
              "STRINGIFY_COLUMN_VALUES": true,
              "STRINGIFY_INDEX_VALUES": false
            },
            "sample_history": [],
            "sampling_time": "2023-09-04T20:18:40.172876",
            "user_variable_name": null,
            "variable_name": "unk_dataframe_650a6b89eac4437998c36de3bd72184f"
          },
          "799ef6cc-091f-4449-b7e5-7414d2b3a4a4": {
            "applied_filters": [],
            "dataframe_info": {
              "default_index_used": false,
              "orig_num_cols": 1,
              "orig_num_rows": 122,
              "orig_size_bytes": 1952,
              "truncated_num_cols": 1,
              "truncated_num_rows": 122,
              "truncated_size_bytes": 1952,
              "truncated_string_columns": []
            },
            "display_id": "799ef6cc-091f-4449-b7e5-7414d2b3a4a4",
            "dx_settings": {
              "ALLOW_NOTEABLE_ATTRS": true,
              "COLUMN_SAMPLING_METHOD": "outer",
              "DB_LOCATION": ":memory:",
              "DEV_MODE": false,
              "DISPLAY_MAX_COLUMNS": 100,
              "DISPLAY_MAX_ROWS": 50000,
              "DISPLAY_MODE": "simple",
              "ENABLE_ASSIGNMENT": true,
              "ENABLE_DATALINK": true,
              "FLATTEN_COLUMN_VALUES": true,
              "FLATTEN_INDEX_VALUES": false,
              "GENERATE_DEX_METADATA": false,
              "HTML_TABLE_SCHEMA": false,
              "LOG_LEVEL": 30,
              "MAX_RENDER_SIZE_BYTES": 104857600,
              "MAX_STRING_LENGTH": 250,
              "NUM_PAST_SAMPLES_TRACKED": 3,
              "RANDOM_STATE": 12648430,
              "RESET_INDEX_VALUES": false,
              "ROW_SAMPLING_METHOD": "random",
              "SAMPLING_FACTOR": 0.1,
              "SAMPLING_METHOD": "random",
              "STRINGIFY_COLUMN_VALUES": true,
              "STRINGIFY_INDEX_VALUES": false
            },
            "sample_history": [],
            "sampling_time": "2023-09-04T19:51:00.664466",
            "user_variable_name": null,
            "variable_name": "unk_dataframe_2d50d9a9f28a439fbbe9bdeef47a26ce"
          },
          "842915e5-cc22-44a7-8b2a-4e39eb540d43": {
            "applied_filters": [],
            "dataframe_info": {
              "default_index_used": false,
              "orig_num_cols": 3,
              "orig_num_rows": 122,
              "orig_size_bytes": 3904,
              "truncated_num_cols": 3,
              "truncated_num_rows": 122,
              "truncated_size_bytes": 3904,
              "truncated_string_columns": []
            },
            "display_id": "842915e5-cc22-44a7-8b2a-4e39eb540d43",
            "dx_settings": {
              "ALLOW_NOTEABLE_ATTRS": true,
              "COLUMN_SAMPLING_METHOD": "outer",
              "DB_LOCATION": ":memory:",
              "DEV_MODE": false,
              "DISPLAY_MAX_COLUMNS": 100,
              "DISPLAY_MAX_ROWS": 50000,
              "DISPLAY_MODE": "simple",
              "ENABLE_ASSIGNMENT": true,
              "ENABLE_DATALINK": true,
              "FLATTEN_COLUMN_VALUES": true,
              "FLATTEN_INDEX_VALUES": false,
              "GENERATE_DEX_METADATA": false,
              "HTML_TABLE_SCHEMA": false,
              "LOG_LEVEL": 30,
              "MAX_RENDER_SIZE_BYTES": 104857600,
              "MAX_STRING_LENGTH": 250,
              "NUM_PAST_SAMPLES_TRACKED": 3,
              "RANDOM_STATE": 12648430,
              "RESET_INDEX_VALUES": false,
              "ROW_SAMPLING_METHOD": "random",
              "SAMPLING_FACTOR": 0.1,
              "SAMPLING_METHOD": "random",
              "STRINGIFY_COLUMN_VALUES": true,
              "STRINGIFY_INDEX_VALUES": false
            },
            "sample_history": [],
            "sampling_time": "2023-09-04T20:20:36.742688",
            "user_variable_name": null,
            "variable_name": "unk_dataframe_3226db26be1a47d69cc42ab765b06404"
          },
          "9ba27576-6957-4fcb-8a11-3422b456b57c": {
            "applied_filters": [],
            "dataframe_info": {
              "default_index_used": false,
              "orig_num_cols": 3,
              "orig_num_rows": 122,
              "orig_size_bytes": 3904,
              "truncated_num_cols": 3,
              "truncated_num_rows": 122,
              "truncated_size_bytes": 3904,
              "truncated_string_columns": []
            },
            "display_id": "9ba27576-6957-4fcb-8a11-3422b456b57c",
            "dx_settings": {
              "ALLOW_NOTEABLE_ATTRS": true,
              "COLUMN_SAMPLING_METHOD": "outer",
              "DB_LOCATION": ":memory:",
              "DEV_MODE": false,
              "DISPLAY_MAX_COLUMNS": 100,
              "DISPLAY_MAX_ROWS": 50000,
              "DISPLAY_MODE": "simple",
              "ENABLE_ASSIGNMENT": true,
              "ENABLE_DATALINK": true,
              "FLATTEN_COLUMN_VALUES": true,
              "FLATTEN_INDEX_VALUES": false,
              "GENERATE_DEX_METADATA": false,
              "HTML_TABLE_SCHEMA": false,
              "LOG_LEVEL": 30,
              "MAX_RENDER_SIZE_BYTES": 104857600,
              "MAX_STRING_LENGTH": 250,
              "NUM_PAST_SAMPLES_TRACKED": 3,
              "RANDOM_STATE": 12648430,
              "RESET_INDEX_VALUES": false,
              "ROW_SAMPLING_METHOD": "random",
              "SAMPLING_FACTOR": 0.1,
              "SAMPLING_METHOD": "random",
              "STRINGIFY_COLUMN_VALUES": true,
              "STRINGIFY_INDEX_VALUES": false
            },
            "sample_history": [],
            "sampling_time": "2023-09-04T20:18:00.438813",
            "user_variable_name": null,
            "variable_name": "unk_dataframe_13667531af3846ef915a4a2b6d59f6fb"
          },
          "a2eb50c4-8593-4f93-9da1-0c31b0c52fa7": {
            "applied_filters": [],
            "dataframe_info": {
              "default_index_used": false,
              "orig_num_cols": 3,
              "orig_num_rows": 122,
              "orig_size_bytes": 3904,
              "truncated_num_cols": 3,
              "truncated_num_rows": 122,
              "truncated_size_bytes": 3904,
              "truncated_string_columns": []
            },
            "display_id": "a2eb50c4-8593-4f93-9da1-0c31b0c52fa7",
            "dx_settings": {
              "ALLOW_NOTEABLE_ATTRS": true,
              "COLUMN_SAMPLING_METHOD": "outer",
              "DB_LOCATION": ":memory:",
              "DEV_MODE": false,
              "DISPLAY_MAX_COLUMNS": 100,
              "DISPLAY_MAX_ROWS": 50000,
              "DISPLAY_MODE": "simple",
              "ENABLE_ASSIGNMENT": true,
              "ENABLE_DATALINK": true,
              "FLATTEN_COLUMN_VALUES": true,
              "FLATTEN_INDEX_VALUES": false,
              "GENERATE_DEX_METADATA": false,
              "HTML_TABLE_SCHEMA": false,
              "LOG_LEVEL": 30,
              "MAX_RENDER_SIZE_BYTES": 104857600,
              "MAX_STRING_LENGTH": 250,
              "NUM_PAST_SAMPLES_TRACKED": 3,
              "RANDOM_STATE": 12648430,
              "RESET_INDEX_VALUES": false,
              "ROW_SAMPLING_METHOD": "random",
              "SAMPLING_FACTOR": 0.1,
              "SAMPLING_METHOD": "random",
              "STRINGIFY_COLUMN_VALUES": true,
              "STRINGIFY_INDEX_VALUES": false
            },
            "sample_history": [],
            "sampling_time": "2023-09-04T20:22:52.528605",
            "user_variable_name": null,
            "variable_name": "unk_dataframe_7d6a54125e6a40f98d09ce2399f91acd"
          },
          "b3c8cba7-1de4-4ce9-82cd-6e0d2a798cac": {
            "applied_filters": [],
            "dataframe_info": {
              "default_index_used": false,
              "orig_num_cols": 3,
              "orig_num_rows": 122,
              "orig_size_bytes": 3904,
              "truncated_num_cols": 3,
              "truncated_num_rows": 122,
              "truncated_size_bytes": 3904,
              "truncated_string_columns": []
            },
            "display_id": "b3c8cba7-1de4-4ce9-82cd-6e0d2a798cac",
            "dx_settings": {
              "ALLOW_NOTEABLE_ATTRS": true,
              "COLUMN_SAMPLING_METHOD": "outer",
              "DB_LOCATION": ":memory:",
              "DEV_MODE": false,
              "DISPLAY_MAX_COLUMNS": 100,
              "DISPLAY_MAX_ROWS": 50000,
              "DISPLAY_MODE": "simple",
              "ENABLE_ASSIGNMENT": true,
              "ENABLE_DATALINK": true,
              "FLATTEN_COLUMN_VALUES": true,
              "FLATTEN_INDEX_VALUES": false,
              "GENERATE_DEX_METADATA": false,
              "HTML_TABLE_SCHEMA": false,
              "LOG_LEVEL": 30,
              "MAX_RENDER_SIZE_BYTES": 104857600,
              "MAX_STRING_LENGTH": 250,
              "NUM_PAST_SAMPLES_TRACKED": 3,
              "RANDOM_STATE": 12648430,
              "RESET_INDEX_VALUES": false,
              "ROW_SAMPLING_METHOD": "random",
              "SAMPLING_FACTOR": 0.1,
              "SAMPLING_METHOD": "random",
              "STRINGIFY_COLUMN_VALUES": true,
              "STRINGIFY_INDEX_VALUES": false
            },
            "sample_history": [],
            "sampling_time": "2023-09-04T19:53:37.746819",
            "user_variable_name": null,
            "variable_name": "unk_dataframe_9b8d3b0eb2e14cd79dfeee5d996e6a7d"
          },
          "b4920f58-3fec-47ba-8f6a-ce48d32fe650": {
            "applied_filters": [],
            "dataframe_info": {
              "default_index_used": false,
              "orig_num_cols": 3,
              "orig_num_rows": 122,
              "orig_size_bytes": 3904,
              "truncated_num_cols": 3,
              "truncated_num_rows": 122,
              "truncated_size_bytes": 3904,
              "truncated_string_columns": []
            },
            "display_id": "b4920f58-3fec-47ba-8f6a-ce48d32fe650",
            "dx_settings": {
              "ALLOW_NOTEABLE_ATTRS": true,
              "COLUMN_SAMPLING_METHOD": "outer",
              "DB_LOCATION": ":memory:",
              "DEV_MODE": false,
              "DISPLAY_MAX_COLUMNS": 100,
              "DISPLAY_MAX_ROWS": 50000,
              "DISPLAY_MODE": "simple",
              "ENABLE_ASSIGNMENT": true,
              "ENABLE_DATALINK": true,
              "FLATTEN_COLUMN_VALUES": true,
              "FLATTEN_INDEX_VALUES": false,
              "GENERATE_DEX_METADATA": false,
              "HTML_TABLE_SCHEMA": false,
              "LOG_LEVEL": 30,
              "MAX_RENDER_SIZE_BYTES": 104857600,
              "MAX_STRING_LENGTH": 250,
              "NUM_PAST_SAMPLES_TRACKED": 3,
              "RANDOM_STATE": 12648430,
              "RESET_INDEX_VALUES": false,
              "ROW_SAMPLING_METHOD": "random",
              "SAMPLING_FACTOR": 0.1,
              "SAMPLING_METHOD": "random",
              "STRINGIFY_COLUMN_VALUES": true,
              "STRINGIFY_INDEX_VALUES": false
            },
            "sample_history": [],
            "sampling_time": "2023-09-04T20:12:59.847297",
            "user_variable_name": null,
            "variable_name": "unk_dataframe_0eabef64bca447e4a4fc3236d1743a1c"
          },
          "ba448697-954d-4a08-a916-a7e5111f60b1": {
            "applied_filters": [],
            "dataframe_info": {
              "default_index_used": false,
              "orig_num_cols": 3,
              "orig_num_rows": 122,
              "orig_size_bytes": 3904,
              "truncated_num_cols": 3,
              "truncated_num_rows": 122,
              "truncated_size_bytes": 3904,
              "truncated_string_columns": []
            },
            "display_id": "ba448697-954d-4a08-a916-a7e5111f60b1",
            "dx_settings": {
              "ALLOW_NOTEABLE_ATTRS": true,
              "COLUMN_SAMPLING_METHOD": "outer",
              "DB_LOCATION": ":memory:",
              "DEV_MODE": false,
              "DISPLAY_MAX_COLUMNS": 100,
              "DISPLAY_MAX_ROWS": 50000,
              "DISPLAY_MODE": "simple",
              "ENABLE_ASSIGNMENT": true,
              "ENABLE_DATALINK": true,
              "FLATTEN_COLUMN_VALUES": true,
              "FLATTEN_INDEX_VALUES": false,
              "GENERATE_DEX_METADATA": false,
              "HTML_TABLE_SCHEMA": false,
              "LOG_LEVEL": 30,
              "MAX_RENDER_SIZE_BYTES": 104857600,
              "MAX_STRING_LENGTH": 250,
              "NUM_PAST_SAMPLES_TRACKED": 3,
              "RANDOM_STATE": 12648430,
              "RESET_INDEX_VALUES": false,
              "ROW_SAMPLING_METHOD": "random",
              "SAMPLING_FACTOR": 0.1,
              "SAMPLING_METHOD": "random",
              "STRINGIFY_COLUMN_VALUES": true,
              "STRINGIFY_INDEX_VALUES": false
            },
            "sample_history": [],
            "sampling_time": "2023-09-04T20:20:13.863115",
            "user_variable_name": null,
            "variable_name": "unk_dataframe_f2349b453dd24e8abf43873c764a37ec"
          },
          "d5e91d47-3f24-424e-aec8-9d27d33d34b4": {
            "applied_filters": [],
            "dataframe_info": {
              "default_index_used": false,
              "orig_num_cols": 3,
              "orig_num_rows": 122,
              "orig_size_bytes": 3904,
              "truncated_num_cols": 3,
              "truncated_num_rows": 122,
              "truncated_size_bytes": 3904,
              "truncated_string_columns": []
            },
            "display_id": "d5e91d47-3f24-424e-aec8-9d27d33d34b4",
            "dx_settings": {
              "ALLOW_NOTEABLE_ATTRS": true,
              "COLUMN_SAMPLING_METHOD": "outer",
              "DB_LOCATION": ":memory:",
              "DEV_MODE": false,
              "DISPLAY_MAX_COLUMNS": 100,
              "DISPLAY_MAX_ROWS": 50000,
              "DISPLAY_MODE": "simple",
              "ENABLE_ASSIGNMENT": true,
              "ENABLE_DATALINK": true,
              "FLATTEN_COLUMN_VALUES": true,
              "FLATTEN_INDEX_VALUES": false,
              "GENERATE_DEX_METADATA": false,
              "HTML_TABLE_SCHEMA": false,
              "LOG_LEVEL": 30,
              "MAX_RENDER_SIZE_BYTES": 104857600,
              "MAX_STRING_LENGTH": 250,
              "NUM_PAST_SAMPLES_TRACKED": 3,
              "RANDOM_STATE": 12648430,
              "RESET_INDEX_VALUES": false,
              "ROW_SAMPLING_METHOD": "random",
              "SAMPLING_FACTOR": 0.1,
              "SAMPLING_METHOD": "random",
              "STRINGIFY_COLUMN_VALUES": true,
              "STRINGIFY_INDEX_VALUES": false
            },
            "sample_history": [],
            "sampling_time": "2023-09-04T20:18:23.540634",
            "user_variable_name": null,
            "variable_name": "unk_dataframe_dcfa545943f54aa480b0aa4743e30edd"
          },
          "d6bb15f6-7bcb-47de-806e-1c0c91c28310": {
            "applied_filters": [],
            "dataframe_info": {
              "default_index_used": false,
              "orig_num_cols": 2,
              "orig_num_rows": 122,
              "orig_size_bytes": 2928,
              "truncated_num_cols": 2,
              "truncated_num_rows": 122,
              "truncated_size_bytes": 2928,
              "truncated_string_columns": []
            },
            "display_id": "d6bb15f6-7bcb-47de-806e-1c0c91c28310",
            "dx_settings": {
              "ALLOW_NOTEABLE_ATTRS": true,
              "COLUMN_SAMPLING_METHOD": "outer",
              "DB_LOCATION": ":memory:",
              "DEV_MODE": false,
              "DISPLAY_MAX_COLUMNS": 100,
              "DISPLAY_MAX_ROWS": 50000,
              "DISPLAY_MODE": "simple",
              "ENABLE_ASSIGNMENT": true,
              "ENABLE_DATALINK": true,
              "FLATTEN_COLUMN_VALUES": true,
              "FLATTEN_INDEX_VALUES": false,
              "GENERATE_DEX_METADATA": false,
              "HTML_TABLE_SCHEMA": false,
              "LOG_LEVEL": 30,
              "MAX_RENDER_SIZE_BYTES": 104857600,
              "MAX_STRING_LENGTH": 250,
              "NUM_PAST_SAMPLES_TRACKED": 3,
              "RANDOM_STATE": 12648430,
              "RESET_INDEX_VALUES": false,
              "ROW_SAMPLING_METHOD": "random",
              "SAMPLING_FACTOR": 0.1,
              "SAMPLING_METHOD": "random",
              "STRINGIFY_COLUMN_VALUES": true,
              "STRINGIFY_INDEX_VALUES": false
            },
            "sample_history": [],
            "sampling_time": "2023-09-04T19:47:41.104613",
            "user_variable_name": null,
            "variable_name": "unk_dataframe_f69fa1a33e6d4a40b78ec79003aa0e85"
          },
          "f36aa058-35cc-476a-950e-d46a9701aa87": {
            "applied_filters": [],
            "dataframe_info": {
              "default_index_used": false,
              "orig_num_cols": 122,
              "orig_num_rows": 1,
              "orig_size_bytes": 984,
              "truncated_num_cols": 100,
              "truncated_num_rows": 1,
              "truncated_size_bytes": 808,
              "truncated_string_columns": []
            },
            "display_id": "f36aa058-35cc-476a-950e-d46a9701aa87",
            "dx_settings": {
              "ALLOW_NOTEABLE_ATTRS": true,
              "COLUMN_SAMPLING_METHOD": "outer",
              "DB_LOCATION": ":memory:",
              "DEV_MODE": false,
              "DISPLAY_MAX_COLUMNS": 100,
              "DISPLAY_MAX_ROWS": 50000,
              "DISPLAY_MODE": "simple",
              "ENABLE_ASSIGNMENT": true,
              "ENABLE_DATALINK": true,
              "FLATTEN_COLUMN_VALUES": true,
              "FLATTEN_INDEX_VALUES": false,
              "GENERATE_DEX_METADATA": false,
              "HTML_TABLE_SCHEMA": false,
              "LOG_LEVEL": 30,
              "MAX_RENDER_SIZE_BYTES": 104857600,
              "MAX_STRING_LENGTH": 250,
              "NUM_PAST_SAMPLES_TRACKED": 3,
              "RANDOM_STATE": 12648430,
              "RESET_INDEX_VALUES": false,
              "ROW_SAMPLING_METHOD": "random",
              "SAMPLING_FACTOR": 0.1,
              "SAMPLING_METHOD": "random",
              "STRINGIFY_COLUMN_VALUES": true,
              "STRINGIFY_INDEX_VALUES": false
            },
            "sample_history": [],
            "sampling_time": "2023-09-04T19:43:37.811763",
            "user_variable_name": null,
            "variable_name": "unk_dataframe_445daf8cd2a743a8b3a74b1273285328"
          },
          "fa7b25e0-c25c-4e00-91d3-4608c260b804": {
            "applied_filters": [],
            "dataframe_info": {
              "default_index_used": false,
              "orig_num_cols": 1,
              "orig_num_rows": 122,
              "orig_size_bytes": 1952,
              "truncated_num_cols": 1,
              "truncated_num_rows": 122,
              "truncated_size_bytes": 1952,
              "truncated_string_columns": []
            },
            "display_id": "fa7b25e0-c25c-4e00-91d3-4608c260b804",
            "dx_settings": {
              "ALLOW_NOTEABLE_ATTRS": true,
              "COLUMN_SAMPLING_METHOD": "outer",
              "DB_LOCATION": ":memory:",
              "DEV_MODE": false,
              "DISPLAY_MAX_COLUMNS": 100,
              "DISPLAY_MAX_ROWS": 50000,
              "DISPLAY_MODE": "simple",
              "ENABLE_ASSIGNMENT": true,
              "ENABLE_DATALINK": true,
              "FLATTEN_COLUMN_VALUES": true,
              "FLATTEN_INDEX_VALUES": false,
              "GENERATE_DEX_METADATA": false,
              "HTML_TABLE_SCHEMA": false,
              "LOG_LEVEL": 30,
              "MAX_RENDER_SIZE_BYTES": 104857600,
              "MAX_STRING_LENGTH": 250,
              "NUM_PAST_SAMPLES_TRACKED": 3,
              "RANDOM_STATE": 12648430,
              "RESET_INDEX_VALUES": false,
              "ROW_SAMPLING_METHOD": "random",
              "SAMPLING_FACTOR": 0.1,
              "SAMPLING_METHOD": "random",
              "STRINGIFY_COLUMN_VALUES": true,
              "STRINGIFY_INDEX_VALUES": false
            },
            "sample_history": [],
            "sampling_time": "2023-09-04T20:05:58.871036",
            "user_variable_name": null,
            "variable_name": "unk_dataframe_54ce7b0d7e784a5bae8644f33c824624"
          },
          "ffcd9467-77e2-41ef-a084-322737a65f46": {
            "applied_filters": [],
            "dataframe_info": {
              "default_index_used": false,
              "orig_num_cols": 3,
              "orig_num_rows": 122,
              "orig_size_bytes": 3904,
              "truncated_num_cols": 3,
              "truncated_num_rows": 122,
              "truncated_size_bytes": 3904,
              "truncated_string_columns": []
            },
            "display_id": "ffcd9467-77e2-41ef-a084-322737a65f46",
            "dx_settings": {
              "ALLOW_NOTEABLE_ATTRS": true,
              "COLUMN_SAMPLING_METHOD": "outer",
              "DB_LOCATION": ":memory:",
              "DEV_MODE": false,
              "DISPLAY_MAX_COLUMNS": 100,
              "DISPLAY_MAX_ROWS": 50000,
              "DISPLAY_MODE": "simple",
              "ENABLE_ASSIGNMENT": true,
              "ENABLE_DATALINK": true,
              "FLATTEN_COLUMN_VALUES": true,
              "FLATTEN_INDEX_VALUES": false,
              "GENERATE_DEX_METADATA": false,
              "HTML_TABLE_SCHEMA": false,
              "LOG_LEVEL": 30,
              "MAX_RENDER_SIZE_BYTES": 104857600,
              "MAX_STRING_LENGTH": 250,
              "NUM_PAST_SAMPLES_TRACKED": 3,
              "RANDOM_STATE": 12648430,
              "RESET_INDEX_VALUES": false,
              "ROW_SAMPLING_METHOD": "random",
              "SAMPLING_FACTOR": 0.1,
              "SAMPLING_METHOD": "random",
              "STRINGIFY_COLUMN_VALUES": true,
              "STRINGIFY_INDEX_VALUES": false
            },
            "sample_history": [],
            "sampling_time": "2023-09-04T20:15:13.835575",
            "user_variable_name": null,
            "variable_name": "unk_dataframe_17d252a472bd4e1484b92e7b0fcdcb31"
          }
        },
        "jupyter": {
          "outputs_hidden": false,
          "source_hidden": false
        },
        "noteable": {
          "cell_type": "code"
        }
      },
      "outputs": [
        {
          "name": "stdout",
          "output_type": "stream",
          "text": [
            "(150, 122) (93, 122)\n"
          ]
        },
        {
          "data": {
            "application/vnd.dataresource+json": {
              "data": [
                {
                  "i": 6.4,
                  "index": "y",
                  "mn": 1,
                  "n": 41
                },
                {
                  "i": 4.1,
                  "index": "Microsoft Excel",
                  "mn": 0.47,
                  "n": 36
                },
                {
                  "i": 2.6,
                  "index": "Financial Modeling",
                  "mn": 0.58,
                  "n": 12
                },
                {
                  "i": 2.4,
                  "index": "cat_Scripting & Automation",
                  "mn": 0.6,
                  "n": 10
                },
                {
                  "i": 2.4,
                  "index": "Financial Analysis",
                  "mn": 0.6,
                  "n": 10
                },
                {
                  "i": 2.2,
                  "index": "Financial Projection",
                  "mn": 0.71,
                  "n": 7
                },
                {
                  "i": 2,
                  "index": "cat_Financial Analysis & Modeling",
                  "mn": 0.44,
                  "n": 9
                },
                {
                  "i": 2,
                  "index": "Google Sheets",
                  "mn": 0.44,
                  "n": 9
                },
                {
                  "i": 1.7,
                  "index": "cat_Graphic Design",
                  "mn": 1,
                  "n": 3
                },
                {
                  "i": 1.7,
                  "index": "Data Visualization",
                  "mn": 0.16,
                  "n": 19
                },
                {
                  "i": 1.7,
                  "index": "Data Scraping",
                  "mn": 1,
                  "n": 3
                },
                {
                  "i": 1.7,
                  "index": "Forecasting",
                  "mn": 0.43,
                  "n": 7
                },
                {
                  "i": 1.7,
                  "index": "SQL",
                  "mn": 0.15,
                  "n": 20
                },
                {
                  "i": 1.7,
                  "index": "API Integration",
                  "mn": 0.75,
                  "n": 4
                },
                {
                  "i": 1.7,
                  "index": "Microsoft SQL Server",
                  "mn": 0.75,
                  "n": 4
                },
                {
                  "i": 1.4,
                  "index": "MySQL",
                  "mn": 0.5,
                  "n": 4
                },
                {
                  "i": 1.4,
                  "index": "Google Docs",
                  "mn": 1,
                  "n": 2
                },
                {
                  "i": 1.4,
                  "index": "Lead Generation",
                  "mn": 0.67,
                  "n": 3
                },
                {
                  "i": 1.4,
                  "index": "Python",
                  "mn": 0.15,
                  "n": 13
                },
                {
                  "i": 1.4,
                  "index": "Pitchbook",
                  "mn": 0.67,
                  "n": 3
                },
                {
                  "i": 1.4,
                  "index": "Presentations",
                  "mn": 0.4,
                  "n": 5
                },
                {
                  "i": 1.4,
                  "index": "Database Programming",
                  "mn": 0.67,
                  "n": 3
                },
                {
                  "i": 1.4,
                  "index": "Spreadsheet Software",
                  "mn": 1,
                  "n": 2
                },
                {
                  "i": 1.4,
                  "index": "Visual Basic for Applications",
                  "mn": 0.5,
                  "n": 4
                },
                {
                  "i": 1.4,
                  "index": "cat_Accounting",
                  "mn": 1,
                  "n": 2
                },
                {
                  "i": 1.4,
                  "index": "cat_Data Engineering",
                  "mn": 0.25,
                  "n": 8
                },
                {
                  "i": 1.4,
                  "index": "cat_Data Visualization",
                  "mn": 0.13,
                  "n": 15
                },
                {
                  "i": 1.4,
                  "index": "cat_Database Administration",
                  "mn": 0.67,
                  "n": 3
                },
                {
                  "i": 1.4,
                  "index": "cat_Desktop Software Development",
                  "mn": 1,
                  "n": 2
                },
                {
                  "i": 1.4,
                  "index": "cat_Sales & Business Development",
                  "mn": 1,
                  "n": 2
                },
                {
                  "i": 1.4,
                  "index": "English",
                  "mn": 1,
                  "n": 2
                },
                {
                  "i": 1.4,
                  "index": "Marketing Strategy",
                  "mn": 1,
                  "n": 2
                },
                {
                  "i": 1.4,
                  "index": "Content Writing",
                  "mn": 0.67,
                  "n": 3
                },
                {
                  "i": 1.4,
                  "index": "Accounting Principles & Practices",
                  "mn": 0.67,
                  "n": 3
                },
                {
                  "i": 1.4,
                  "index": "Company Valuation",
                  "mn": 0.67,
                  "n": 3
                },
                {
                  "i": 1.4,
                  "index": "Airtable",
                  "mn": 0.4,
                  "n": 5
                },
                {
                  "i": 1.4,
                  "index": "Dashboard",
                  "mn": 0.33,
                  "n": 6
                },
                {
                  "i": 1,
                  "index": "cat_Campaign Management",
                  "mn": 1,
                  "n": 1
                },
                {
                  "i": 1,
                  "index": "cat_Business Analysis & Strategy",
                  "mn": 1,
                  "n": 1
                },
                {
                  "i": 1,
                  "index": "Business Development",
                  "mn": 0.5,
                  "n": 2
                },
                {
                  "i": 1,
                  "index": "Web Development",
                  "mn": 1,
                  "n": 1
                },
                {
                  "i": 1,
                  "index": "cat_Database Development",
                  "mn": 0.33,
                  "n": 3
                },
                {
                  "i": 1,
                  "index": "cat_Data Extraction",
                  "mn": 0.5,
                  "n": 2
                },
                {
                  "i": 1,
                  "index": "Statistical Analysis",
                  "mn": 0.25,
                  "n": 4
                },
                {
                  "i": 1,
                  "index": "Business with 10-99 Employees",
                  "mn": 1,
                  "n": 1
                },
                {
                  "i": 1,
                  "index": "Scheduling",
                  "mn": 1,
                  "n": 1
                },
                {
                  "i": 1,
                  "index": "C#",
                  "mn": 1,
                  "n": 1
                },
                {
                  "i": 1,
                  "index": "cat_Cloud Engineering",
                  "mn": 1,
                  "n": 1
                },
                {
                  "i": 1,
                  "index": "Report",
                  "mn": 0.5,
                  "n": 2
                },
                {
                  "i": 1,
                  "index": "cat_Electrical Engineering",
                  "mn": 1,
                  "n": 1
                },
                {
                  "i": 1,
                  "index": "Communications",
                  "mn": 1,
                  "n": 1
                },
                {
                  "i": 1,
                  "index": "cat_Data Analytics",
                  "mn": 0.07,
                  "n": 14
                },
                {
                  "i": 1,
                  "index": "Statistics",
                  "mn": 0.09,
                  "n": 11
                },
                {
                  "i": 1,
                  "index": "cat_UX/UI Design",
                  "mn": 1,
                  "n": 1
                },
                {
                  "i": 1,
                  "index": "Customer Service",
                  "mn": 1,
                  "n": 1
                },
                {
                  "i": 1,
                  "index": "cat_Email, Phone & Chat Support",
                  "mn": 1,
                  "n": 1
                },
                {
                  "i": 1,
                  "index": "Database Design",
                  "mn": 0.33,
                  "n": 3
                },
                {
                  "i": 1,
                  "index": "Accounting",
                  "mn": 0.5,
                  "n": 2
                },
                {
                  "i": 1,
                  "index": "cat_SEO",
                  "mn": 1,
                  "n": 1
                },
                {
                  "i": 1,
                  "index": "Data Mining",
                  "mn": 0.25,
                  "n": 4
                },
                {
                  "i": 1,
                  "index": "Google Ads",
                  "mn": 1,
                  "n": 1
                },
                {
                  "i": 1,
                  "index": "cat_Marketing Strategy",
                  "mn": 1,
                  "n": 1
                },
                {
                  "i": 1,
                  "index": "cat_Marketing Automation",
                  "mn": 1,
                  "n": 1
                },
                {
                  "i": 1,
                  "index": "Business Analysis",
                  "mn": 0.5,
                  "n": 2
                },
                {
                  "i": 1,
                  "index": "cat_Logistics & Supply Chain Management",
                  "mn": 1,
                  "n": 1
                },
                {
                  "i": 1,
                  "index": "Administrative Support",
                  "mn": 1,
                  "n": 1
                },
                {
                  "i": 1,
                  "index": "cat_Generative AI",
                  "mn": 1,
                  "n": 1
                },
                {
                  "i": 1,
                  "index": "cat_Financial Management/CFO",
                  "mn": 1,
                  "n": 1
                },
                {
                  "i": 1,
                  "index": "cat_Experimentation & Testing",
                  "mn": 1,
                  "n": 1
                },
                {
                  "i": 1,
                  "index": "API",
                  "mn": 0.5,
                  "n": 2
                },
                {
                  "i": 1,
                  "index": "Data Analysis",
                  "mn": 0.04,
                  "n": 24
                },
                {
                  "i": 0,
                  "index": "cat_Machine Learning",
                  "mn": 0,
                  "n": 2
                },
                {
                  "i": 0,
                  "index": "Artificial Intelligence",
                  "mn": 0,
                  "n": 2
                },
                {
                  "i": 0,
                  "index": "Bookkeeping",
                  "mn": 0,
                  "n": 1
                },
                {
                  "i": 0,
                  "index": "cat_Data Processing",
                  "mn": 0,
                  "n": 2
                },
                {
                  "i": 0,
                  "index": "cat_DevOps Engineering",
                  "mn": 0,
                  "n": 1
                },
                {
                  "i": 0,
                  "index": "Analytics",
                  "mn": 0,
                  "n": 2
                },
                {
                  "i": 0,
                  "index": "ETL",
                  "mn": 0,
                  "n": 4
                },
                {
                  "i": 0,
                  "index": "cat_Back-End Development",
                  "mn": 0,
                  "n": 1
                },
                {
                  "i": 0,
                  "index": "Data Extraction",
                  "mn": 0,
                  "n": 1
                },
                {
                  "i": 0,
                  "index": "Database Architecture",
                  "mn": 0,
                  "n": 5
                },
                {
                  "i": 0,
                  "index": "Data Science",
                  "mn": 0,
                  "n": 10
                },
                {
                  "i": 0,
                  "index": "Data Modeling",
                  "mn": 0,
                  "n": 6
                },
                {
                  "i": 0,
                  "index": "Google Apps Script",
                  "mn": 0,
                  "n": 1
                },
                {
                  "i": 0,
                  "index": "Data Migration",
                  "mn": 0,
                  "n": 4
                },
                {
                  "i": 0,
                  "index": "Data Integration",
                  "mn": 0,
                  "n": 3
                },
                {
                  "i": 0,
                  "index": "Java",
                  "mn": 0,
                  "n": 2
                },
                {
                  "i": 0,
                  "index": "JavaScript",
                  "mn": 0,
                  "n": 1
                },
                {
                  "i": 0,
                  "index": "Looker Studio",
                  "mn": 0,
                  "n": 3
                },
                {
                  "i": 0,
                  "index": "cat_Automation Testing",
                  "mn": 0,
                  "n": 1
                },
                {
                  "i": 0,
                  "index": "Machine Learning",
                  "mn": 0,
                  "n": 6
                },
                {
                  "i": 0,
                  "index": "Marketing Analytics",
                  "mn": 0,
                  "n": 2
                },
                {
                  "i": 0,
                  "index": "Microsoft Power BI",
                  "mn": 0,
                  "n": 6
                },
                {
                  "i": 0,
                  "index": "Quantitative Analysis",
                  "mn": 0,
                  "n": 3
                },
                {
                  "i": 0,
                  "index": "R",
                  "mn": 0,
                  "n": 7
                },
                {
                  "i": 0,
                  "index": "ETL Pipeline",
                  "mn": 0,
                  "n": 5
                },
                {
                  "i": 0,
                  "index": "Business Intelligence",
                  "mn": 0,
                  "n": 6
                },
                {
                  "i": 0,
                  "index": "WordPress",
                  "mn": 0,
                  "n": 1
                },
                {
                  "i": 0,
                  "index": "Tableau",
                  "mn": 0,
                  "n": 2
                },
                {
                  "i": null,
                  "index": "Automation",
                  "mn": null,
                  "n": 0
                },
                {
                  "i": null,
                  "index": "Business with 1-9 Employees",
                  "mn": null,
                  "n": 0
                },
                {
                  "i": null,
                  "index": "CSS",
                  "mn": null,
                  "n": 0
                },
                {
                  "i": null,
                  "index": "Competitive Analysis",
                  "mn": null,
                  "n": 0
                },
                {
                  "i": null,
                  "index": "Data Entry",
                  "mn": null,
                  "n": 0
                },
                {
                  "i": null,
                  "index": "Digital Marketing",
                  "mn": null,
                  "n": 0
                },
                {
                  "i": null,
                  "index": "Email Communication",
                  "mn": null,
                  "n": 0
                },
                {
                  "i": null,
                  "index": "Google Analytics",
                  "mn": null,
                  "n": 0
                },
                {
                  "i": null,
                  "index": "Google Tag Manager",
                  "mn": null,
                  "n": 0
                },
                {
                  "i": null,
                  "index": "List Building",
                  "mn": null,
                  "n": 0
                },
                {
                  "i": null,
                  "index": "Market Analysis",
                  "mn": null,
                  "n": 0
                },
                {
                  "i": null,
                  "index": "Market Research",
                  "mn": null,
                  "n": 0
                },
                {
                  "i": null,
                  "index": "SEO Keyword Research",
                  "mn": null,
                  "n": 0
                },
                {
                  "i": null,
                  "index": "Virtual Assistance",
                  "mn": null,
                  "n": 0
                },
                {
                  "i": null,
                  "index": "cat_Bookkeeping",
                  "mn": null,
                  "n": 0
                },
                {
                  "i": null,
                  "index": "cat_Full Stack Development",
                  "mn": null,
                  "n": 0
                },
                {
                  "i": null,
                  "index": "cat_General Research Services",
                  "mn": null,
                  "n": 0
                },
                {
                  "i": null,
                  "index": "cat_General Virtual Assistance",
                  "mn": null,
                  "n": 0
                },
                {
                  "i": null,
                  "index": "cat_Lead Generation",
                  "mn": null,
                  "n": 0
                },
                {
                  "i": null,
                  "index": "cat_Market Research",
                  "mn": null,
                  "n": 0
                },
                {
                  "i": null,
                  "index": "cat_Other Digital Marketing",
                  "mn": null,
                  "n": 0
                },
                {
                  "i": null,
                  "index": "cat_Presentation Design",
                  "mn": null,
                  "n": 0
                },
                {
                  "i": null,
                  "index": "cat_Transcription",
                  "mn": null,
                  "n": 0
                }
              ],
              "datalink": {
                "display_id": "a2eb50c4-8593-4f93-9da1-0c31b0c52fa7"
              },
              "schema": {
                "fields": [
                  {
                    "name": "index",
                    "type": "string"
                  },
                  {
                    "name": "mn",
                    "type": "number"
                  },
                  {
                    "name": "n",
                    "type": "integer"
                  },
                  {
                    "name": "i",
                    "type": "number"
                  }
                ],
                "pandas_version": "1.4.0",
                "primaryKey": [
                  "index"
                ]
              }
            }
          },
          "metadata": {
            "application/vnd.dataresource+json": {
              "datalink": {
                "applied_filters": [],
                "dataframe_info": {
                  "default_index_used": false,
                  "orig_num_cols": 3,
                  "orig_num_rows": 122,
                  "orig_size_bytes": 3904,
                  "truncated_num_cols": 3,
                  "truncated_num_rows": 122,
                  "truncated_size_bytes": 3904,
                  "truncated_string_columns": []
                },
                "display_id": "a2eb50c4-8593-4f93-9da1-0c31b0c52fa7",
                "dx_settings": {
                  "ALLOW_NOTEABLE_ATTRS": true,
                  "COLUMN_SAMPLING_METHOD": "outer",
                  "DB_LOCATION": ":memory:",
                  "DEV_MODE": false,
                  "DISPLAY_MAX_COLUMNS": 100,
                  "DISPLAY_MAX_ROWS": 50000,
                  "DISPLAY_MODE": "simple",
                  "ENABLE_ASSIGNMENT": true,
                  "ENABLE_DATALINK": true,
                  "FLATTEN_COLUMN_VALUES": true,
                  "FLATTEN_INDEX_VALUES": false,
                  "GENERATE_DEX_METADATA": false,
                  "HTML_TABLE_SCHEMA": false,
                  "LOG_LEVEL": 30,
                  "MAX_RENDER_SIZE_BYTES": 104857600,
                  "MAX_STRING_LENGTH": 250,
                  "NUM_PAST_SAMPLES_TRACKED": 3,
                  "RANDOM_STATE": 12648430,
                  "RESET_INDEX_VALUES": false,
                  "ROW_SAMPLING_METHOD": "random",
                  "SAMPLING_FACTOR": 0.1,
                  "SAMPLING_METHOD": "random",
                  "STRINGIFY_COLUMN_VALUES": true,
                  "STRINGIFY_INDEX_VALUES": false
                },
                "sample_history": [],
                "sampling_time": "2023-09-04T20:22:52.528605",
                "user_variable_name": null,
                "variable_name": "unk_dataframe_7d6a54125e6a40f98d09ce2399f91acd"
              },
              "display_id": "a2eb50c4-8593-4f93-9da1-0c31b0c52fa7"
            }
          },
          "output_type": "display_data"
        }
      ],
      "source": [
        "from functools import reduce\n",
        "nnot = ['Data Entry', 'Google Analytics', 'cat_Full Stack Development', 'Market Research', 'Automation']\n",
        "\n",
        "xy2 = reduce(lambda d, c: d.loc[lambda dd: ~dd[c].astype(bool)], [xy] + nnot)\n",
        "#     .assign(y = lambda d: (~d['y'].astype(bool)).astype(int))\n",
        "print(xy.shape, xy2.shape)\n",
        "xy2.agg(lambda x: np.round(xy2['y'].loc[x.astype(bool)].mean(), 2))\\\n",
        "    .to_frame('mn')\\\n",
        "    .assign(n = xy2.agg(sum))\\\n",
        "    .assign(i = lambda d: (np.sqrt(d['mn'] * d['n'])).round(1))\\\n",
        "    .sort_values('i', ascending=False)"
      ]
    }
  ],
  "metadata": {
    "kernel_info": {
      "name": "python3"
    },
    "kernelspec": {
      "display_name": "Python 3.9",
      "language": "python",
      "name": "python3"
    },
    "language_info": {
      "codemirror_mode": {
        "name": "ipython",
        "version": 3
      },
      "file_extension": ".py",
      "mimetype": "text/x-python",
      "name": "python",
      "nbconvert_exporter": "python",
      "pygments_lexer": "ipython3",
      "version": "3.10.6"
    },
    "noteable": {
      "last_delta_id": "2b38f196-c793-44e9-bc32-85ce79db5c41"
    },
    "noteable-chatgpt": {
      "create_notebook": {
        "openai_conversation_id": "e8560bec-4047-5f2f-8cee-9f391aa1e0ca",
        "openai_ephemeral_user_id": "21881765-f0f0-5973-b1c7-69681936f4a6",
        "openai_subdivision1_iso_code": "AR-B"
      }
    },
    "nteract": {
      "version": "noteable@2.9.0"
    },
    "selected_hardware_size": "small"
  },
  "nbformat": 4,
  "nbformat_minor": 5
}
